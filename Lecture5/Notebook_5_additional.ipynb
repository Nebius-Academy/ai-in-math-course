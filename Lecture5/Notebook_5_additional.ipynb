{
  "cells": [
    {
      "cell_type": "markdown",
      "metadata": {},
      "source": [
        "# Eigenvalues of Symmetric Matrices\n",
        "\n",
        "In this section we study how a neural network can approximate the mapping  \n",
        "from a symmetric $3 \\times 3$ matrix to its eigenvalues.\n",
        "\n",
        "**Why this problem?**  \n",
        "Eigenvalues capture fundamental properties of a matrix — stability, oscillation modes, energy levels — and are central in mathematics, physics, and engineering.  \n",
        "Since the eigenvalue map is nonlinear, learning it provides a natural benchmark for testing the expressive power of neural networks.\n",
        "\n",
        "**Setup.**  \n",
        "We restrict to real symmetric matrices, ensuring that all eigenvalues are real.  \n",
        "Each matrix is represented by the six independent entries on and above the diagonal.  \n",
        "For a given matrix\n",
        "\n",
        "$$\n",
        "M_i =\n",
        "\\begin{pmatrix}\n",
        "a & b & c \\\\\n",
        "b & d & e \\\\\n",
        "c & e & f\n",
        "\\end{pmatrix}\n",
        "\\quad \\longrightarrow \\quad\n",
        "x_i = (a, b, c, d, e, f),\n",
        "\\quad\n",
        "y_i = (\\lambda_1, \\lambda_2, \\lambda_3).\n",
        "$$\n",
        "\n",
        "Here $\\lambda_1 \\leq \\lambda_2 \\leq \\lambda_3$ are the eigenvalues of $M_i$.\n",
        "\n",
        "**Data.**  \n",
        "We will generate 10,000 random symmetric matrices with entries uniformly drawn from the range $[-10, 10]$.  \n",
        "The task of the neural network is to learn the regression map\n",
        "\n",
        "$$\n",
        "x_i \\;\\mapsto\\; y_i .\n",
        "$$"
      ]
    },
    {
      "cell_type": "code",
      "execution_count": null,
      "metadata": {},
      "outputs": [],
      "source": [
        "# === Imports & basic setup ===\n",
        "from __future__ import annotations\n",
        "\n",
        "import os, sys, math, random, warnings\n",
        "from typing import Tuple, Iterable, Optional\n",
        "\n",
        "import numpy as np\n",
        "import pandas as pd\n",
        "from tqdm import tqdm\n",
        "import matplotlib.pyplot as plt\n",
        "\n",
        "# PyTorch\n",
        "import torch\n",
        "import torch.nn as nn\n",
        "import torch.optim as optim\n",
        "from torch.utils.data import TensorDataset, DataLoader\n",
        "\n",
        "# Scikit-learn (for splits and optional scaling)\n",
        "from sklearn.model_selection import train_test_split\n",
        "from sklearn.preprocessing import PolynomialFeatures, StandardScaler\n",
        "from sklearn.pipeline import Pipeline\n",
        "from sklearn.linear_model import LinearRegression\n",
        "from sklearn.metrics import mean_squared_error, mean_absolute_error\n",
        "\n",
        "# Reproducibility\n",
        "SEED = 42\n",
        "random.seed(SEED)\n",
        "np.random.seed(SEED)\n",
        "torch.manual_seed(SEED)\n",
        "torch.cuda.manual_seed_all(SEED)\n",
        "\n",
        "# Device\n",
        "DEVICE = torch.device(\"cuda\" if torch.cuda.is_available() else \"cpu\")\n",
        "print(f\"Using device: {DEVICE}\")\n",
        "\n",
        "# Matplotlib defaults (readable plots)\n",
        "plt.rcParams[\"figure.figsize\"] = (6, 4)\n",
        "plt.rcParams[\"axes.grid\"] = True\n",
        "\n",
        "# Quiet noisy warnings\n",
        "warnings.filterwarnings(\"ignore\")\n",
        "\n",
        "# Optional: higher matmul precision on recent PyTorch versions (helps stability on some GPUs/CPUs)\n",
        "if hasattr(torch, \"set_float32_matmul_precision\"):\n",
        "    torch.set_float32_matmul_precision(\"high\")"
      ]
    },
    {
      "cell_type": "markdown",
      "metadata": {},
      "source": [
        "## Data Generation\n",
        "\n",
        "To train our neural network we need a dataset of symmetric $3 \\times 3$ matrices paired with their eigenvalues.  \n",
        "\n",
        "**Steps:**\n",
        "1. Generate random symmetric matrices with entries uniformly sampled from $[-10, 10]$.\n",
        "2. Extract the six independent entries (on and above the diagonal) as the input vector $x_i$.\n",
        "3. Compute the eigenvalues of the matrix, sort them in ascending order, and use them as the target vector $y_i$.\n",
        "4. Store each $(x_i, y_i)$ pair as one row in a dataset.\n",
        "\n",
        "We will generate 10,000 such examples and store them in a Pandas DataFrame."
      ]
    },
    {
      "cell_type": "code",
      "execution_count": null,
      "metadata": {
        "colab": {
          "base_uri": "https://localhost:8080/"
        },
        "id": "u0aWQtP52H7U",
        "outputId": "254a9a96-efad-4733-e952-054431764be4"
      },
      "outputs": [],
      "source": [
        "\n",
        "\n",
        "def generate_symmetric_matrix(min_val: float = -10.0, max_val: float = 10.0, dim: int = 3) -> np.ndarray:\n",
        "    \"\"\"Generate a random symmetric matrix of shape (dim, dim).\"\"\"\n",
        "    mat = np.random.uniform(min_val, max_val, size=(dim, dim))\n",
        "    return (mat + mat.T) / 2\n",
        "\n",
        "# Parameters\n",
        "num_matrices = 10_000\n",
        "dim = 3\n",
        "\n",
        "rows = []\n",
        "for _ in tqdm(range(num_matrices), desc=\"Generating matrices\"):\n",
        "    M = generate_symmetric_matrix(dim=dim)\n",
        "    \n",
        "    # Extract upper-triangle (including diagonal) as input\n",
        "    x = [M[i, j] for i in range(dim) for j in range(i, dim)]\n",
        "    \n",
        "    # Compute and sort eigenvalues as target\n",
        "    eigenvalues = np.sort(np.linalg.eigvalsh(M))  # eigvalsh is optimized for symmetric matrices\n",
        "    \n",
        "    rows.append(x + list(eigenvalues))\n",
        "\n",
        "# Assemble DataFrame\n",
        "columns = [f\"M{i}{j}\" for i in range(dim) for j in range(i, dim)] + [f\"λ{k+1}\" for k in range(dim)]\n",
        "df = pd.DataFrame(rows, columns=columns)\n",
        "\n",
        "df.head()"
      ]
    },
    {
      "cell_type": "markdown",
      "metadata": {},
      "source": [
        "## Train–Test Split\n",
        "\n",
        "To evaluate generalization, we divide the dataset into a training set and a testing set:\n",
        "\n",
        "- **Training set (80%)**: used to fit the neural network parameters.  \n",
        "- **Testing set (20%)**: held out and only used to assess model performance.\n",
        "\n",
        "We use a fixed random seed to make the split reproducible.  \n",
        "To visualize the split, we display the relative proportions as a pie chart."
      ]
    },
    {
      "cell_type": "code",
      "execution_count": null,
      "metadata": {
        "colab": {
          "base_uri": "https://localhost:8080/",
          "height": 463
        },
        "id": "RH82vmjn2LE3",
        "outputId": "dda2cea6-960c-42fe-eaec-46d8dd66b918"
      },
      "outputs": [],
      "source": [
        "# Split into train/test\n",
        "train_df, test_df = train_test_split(df, test_size=0.2, random_state=SEED)\n",
        "\n",
        "# Sizes\n",
        "train_size, test_size = len(train_df), len(test_df)\n",
        "print(f\"Number of elements in train set: {train_size}\")\n",
        "print(f\"Number of elements in test set: {test_size}\")\n",
        "\n",
        "# Pie chart\n",
        "labels = [\"Train\", \"Test\"]\n",
        "sizes = [train_size, test_size]\n",
        "explode = (0.1, 0)  # emphasize the training slice\n",
        "\n",
        "fig, ax = plt.subplots()\n",
        "ax.pie(sizes, labels=labels, autopct=\"%1.1f%%\", explode=explode,\n",
        "       shadow=True, startangle=90)\n",
        "ax.axis(\"equal\")  # equal aspect ratio for a circle\n",
        "plt.title(\"Train–Test Split\")\n",
        "plt.show()"
      ]
    },
    {
      "cell_type": "markdown",
      "metadata": {},
      "source": [
        "## Baseline: Polynomial (Linear) Regression\n",
        "\n",
        "Before training a neural network, we establish a simple, transparent baseline.\n",
        "\n",
        "**Idea.** Use a linear model on polynomial features.  \n",
        "For degree $p$, we map the 6 inputs $(a,b,c,d,e,f)$ to all monomials up to degree $p$ (e.g., for $p=2$: terms like $a^2$, $ab$, $bc$, …).  \n",
        "Then we fit a model to predict the three eigenvalues $(\\lambda_1,\\lambda_2,\\lambda_3)$.\n",
        "\n",
        "**Multi-head concept.**  \n",
        "Our task has three outputs. One way to handle this is to build a **multi-head model**:  \n",
        "- a **shared body** that processes the inputs (here: the polynomial feature expansion),  \n",
        "- followed by **separate heads**, one for each eigenvalue.  \n",
        "\n",
        "Each head is just a simple linear regression on the shared features. This setup reduces computation (we compute the polynomial features only once) and keeps the number of parameters smaller than if we trained three independent models from scratch. In more advanced neural networks, this idea is also very common.\n",
        "\n",
        "**Why this baseline is useful.**\n",
        "- Provides a quick performance reference (how far can we go without deep nets?).  \n",
        "- Highlights the trade-off: higher degree increases expressivity but can overfit and explode the number of features.\n",
        "\n",
        "We evaluate the mean squared error (MSE) on the held-out test set for degrees $p=1,\\dots,P$, pick the best $p$, and also report root mean squared error (RMSE) for each eigenvalue separately.\n",
        "\n",
        "**RMSE explanation.**  \n",
        "While MSE averages squared errors over all predictions, RMSE takes the square root:\n",
        "\n",
        "$$\n",
        "\\text{RMSE}(y,\\hat{y}) = \\sqrt{\\frac{1}{n} \\sum_{i=1}^n (y_i - \\hat{y}_i)^2}.\n",
        "$$\n",
        "\n",
        "RMSE is measured in the same units as the targets (here: eigenvalues), making it easier to interpret. For example, an RMSE of $0.5$ means that, on average, predictions are within about $0.5$ of the true eigenvalues."
      ]
    },
    {
      "cell_type": "markdown",
      "metadata": {},
      "source": [
        "![MultiHead.png](data:image/png;base64,iVBORw0KGgoAAAANSUhEUgAAAhwAAADSCAIAAACO4Y7GAAA08UlEQVR4nO2de6wVRb7vl/474ZqTm5jcjHNOwh/8QSYklxsS7hBOCOcSxxhDjAeG45UMg8HDcMHocARx1EEUFQUFQQEREJ1hE0QURB3cgo5sw0sZXsNjA/KGvdm4ecgb9u77rVW9q6ure/XqXqu7q7r798kvsHat6u7q6u7ft3716FWyCIKIjU7dBSAIzZS8SW3nr3yx5eiqDYfyZNv2n7l89WZtdYQNsbn2U4jXcIlxoWu+b461XNR+CrHbvqPtNVeIGXToLgBBuESlA55i9ortY1/7Kq8GxxFJWpAZm2gvdnKGy42LHumOgb5OXrhJe8kTsglvbYDcRqoQgiBkHFFp2nlSy2M8Lt3DTfvLdyHdKLIhs3Y3l4Lh0oe8XRoa9ydVjNeTOjv1BgtxIGhtzXEtQRQcW1TQ/NTu2mqydTVsBamo6jKQwVxFScD/4gaoeq/kO2hTbOGa3TE8XgRRPJiowIEi6pefqPFzNkxb+vfc2JR3tyouA/4xuF68DhQ70X4iMRousXx2uAGChbbt/BWlQv749kbtZxGjeW+S8AEcQdSKtpkdyR2YicoXW47Kz9K81Xt3HbvW3HIrT7Zu+1nFjQb4UHylSCw2134K8RouMS60fJrBYwlKx9fivx7Qfgqx28qmE/JNMnnhpvgfuJqgKWUJUrDJDSncSxCVDkT6cntc+7OdkEEYQrZDlc7AqIqyT/eZhje00MVpzl6xPeBGkWNZqJH2kidkDeuPyJe+nglyhE5IhzXRySMV2V+gsab9wU7OZB8a0AMm933lWGWby21zuQesUoUooVvTnvPaS56clc9xPT/TMENNRJYgsUkeJir1tMozZAdqEhVsor3kyZkSvVWqkH1H2+Vs2otd3c7Uvm3Im4QgCF/MEZWOFI5CoqJYbkWlDgu8SQrWAU8Q0VFEZX1IUcnQsEFof+FAoqJAokKkAUl2VYytIqlgYSOVAwHPYWvSz3lnyv6CREWBRIUgiJCY0/1lkL/QLiqpBYLVRaXcACFRSYNr16wlS6zZs63W1vQOShhIY6P14ovWrl26y1EjJCo+aBeV1IwiFa/VKCrr1lmTJlW0bduq72HePKtUYjZkSNiDmszFi9ZTT/nXxrPPWlOnWnPmWB99ZB04oLughrF7t30bdOtmXb+uuzS1ECQqj4ydUCqV8K/vs/erf/03fPvu8rVJP+SRDrR1f9sve/XGJvX4i0qiYkiFhDzWyi+2oKjIiX+ff3Uuasabp35RMaROQh5o1oJlvxk+CoYCo37quUlUdu60pk2zevSwPYKw8eOt+fOtY8eq7+Hpp+1NevcOe1CTuXrVWrzYuv9+tUK81q+ftaHidPbCsXatUzM//qi7NLWQgqjUO60rkmPimUlU4DdLZZDzF//SHR/uuOOfvPn1iUps42QhKwSayvOgHtDs4JXjW+y6ur86O63+/R2n8O23EbY9csQaOJDJEtxKnmhocCoE0VhLi/XTT6xv54UXXNKyfLnugprBzZvWyBHWnXda06frLkqN5CdSgde4575/F57UN082RCXEGgtxLN8JFLycyCOiE0Qq3J8q8UpxIhV+b4hyrtvczLXWu0m9YyoTJzrdFwQ4cMBRDiUi2bzZpSsnY3nZmrETpIpCTkRl1oJl8JjIxhuh2RaVuuuEV4WiHzx2gbrIiQURFUgIvoWKyIn/9fSLSES11HaTVOTFF20XedddkbfNJQhNKomKJWkw7LnndJSPqBNVxeMUFXgxZOYejXt270P+7vJGtBlFHv5U45kXGVZ+sYXvmbes4QTDOCbkQWZIC7KZIyohKqQTKcEVUkOd4KBeX+lb+PRFpWqdJFEhOCi+UgSV3yo4VsyiMm2a7SK7d4+8bS5pawsSlS+/dL7NxwyFwhObqOC55f0JSEcbUDgO+UnmjzHS8S03vgnCC+Es+FZ8KFV0Z1UVFXzLG+bmiEosFVJPnVT1725RWZeCqFStk7gqJGhZVZfxDRWl0S8qFy9aly75pF+7ZrW7f+24PdyPH9+4YZ0J8Qazzk7m/a9erZIHYUfUAgSLytatzreDB1cvJApw61bF7+U/zp2zroR4H+iPP7Iq4qDyb1Z4eXm1Qzt7EAfFdcRV84JKPn/e/oxD//STTx7v5faCnVQqraCjw3XJwIULLDEY1InYM4rRGe2NadVFBU81XIDX+IMtHmPuPuAp5OYhtpX78XkepdUpd217d8IHA8I70BREJc0KiaVOZGetpMcVqcRVJz4V0hpzhWDnIrLxxnPaRAXP7TffWA89xDYcM8Zd+/tYH1G3bmwMH5w9y7qJevZkOZHy0kv+O4RrmzzZ6tvXGeC57z42XVXh+nVrwQKrVy/XXCwcDkeRgZeZM8ee23byJFMCXgD8+913VU4tWFQWLXK+feaZijtZssQaNIidBc+J81q92j/njh1MnO68086JD+PHszo8fZoZPCyfp4t/P/iAzYzgcwSQjvrh+XGsqIeGNrz8Muvw5HlQUcOHs3/fftuV7eOP7XrjB0I5UYAHH3TlEZe70v3T2GgXlduAAWyWtnK9rPJ9MnMm2wny4OwgEvPns8z8Zhg1ykfMcKUeftg50z59WDZ82LPHvyQVqC4qwfDH2LfPWuxBbofOWrBMySMas+Wd3ObdSaUBVS2icluKFRKwn0h1wpv2MO8k2rKorK9fVOKqkxQqRPSbYRNvmKJHVBoaXHORf/97Ox2+G+5MpCPPiROOVxKGzRXgBbhOYFfTp7t28uc/O9kuX7bnqsGPPP88m5oFPyJcJ74FiHJGjnQd7rPPHL8De+CBKmcXICpoa3Ovxw164AUt5aFD2bf33mu9/rqtu9zGjlUzz55tf7V4MaurDz90FZXbhAlsoYycDm8ryyq+4u308IceMoQlwtdDn9asYXUi9ix46y2WggPNncuEQQwmDRvmf7m99w+ka9w4u4RPPsl2+NvfOgN4ovZaW60RI1ynfOSIfSKyjR7t2jkiGC6KOAQuMW4qUSf/+EeVS+wmnu4v7sp/2as3PsjG96C0B+EX8BXv/RBPOM/vqwe8m8IQUUmzQgJOJ3yd8CkMvorSnO6YSvg6SbRCUA98iIXvuWtMxZn4rkFU4IneeINpxm1uUfn+e7a3wVKzFI89ROW119i0Yzgj4QS5AHDwmXsH2YM/+qizk+PH7cRXX7VT4IsFiFRkhwhJmDLFeuIJlz9Cnrvvtj8/9liVs6skKocPOzuBIa7yhXtD1INgxQpnKzlowM554tSpTuKyZU5mxAQIIBAuIKqASMhnhBoTjhg1HOnQUAh+ueXOKLhsWVSgT3yrH35w8vDJ1rKovPKKE4V47x9xFTZvdhLfeccpEm4YfizEsn/4g5OOWws3CaT0889Z60Gkb9zo7AffIgWRigDBLm/BaBSVSoixUHl8lSNWUWAP77n8RYdSjCyKSp0VEnA6IeuET3CqpChaRCW4TpKuEMX4npXuR21jKtCVkltUONu2udyi0A+0W0VzW/YycKlIQUtWBv5O9AhBYDhogPMUeT2NKAaa0oLOTmdz+F/ec4KCwS3KeuaLLCpz5lirVrF/4bzkyOCDD/y35TqB+EkZBkA9CHcpEBLV3Ow6cdErBe8vI0cevGPw5EkW4pw6Fe3Q8OBKSaxyECaLyldf2Vsp06YRKQpR4YjLrdw/mzb5SKZy4tib4NYt5/aANkDCBWJF6nRpKQyPWZUIbN26NEWl0+sv4BeURig37tH4WvdSuU0qL/AW+6k0G0e7qBwIVSE+DrTOCpH3U0Od8DnEOITiNPWKSkCdJF0hXvMtvDZREYsEFVE5ccLZoTJkKrpZPvvMToGL5ylvvsn6Q2Tr3duJMzgIDniKPCaMsKnk18Mjut3Q2q2Gq5SyqHgNZy1Grb3w7iCEF8q5jBnj7IEPjEM8RMq5c66diJ4fOeYAiLF4+qRJdR1adGTNnOnaA+RHiAouUKmrs0ueDbFggSoqiCN97x8hZn/7m1rUr792iiRfHdG1eOSIKz9E3dtuELfHN984iVAmNCa0RCq8p1ueosMNngKNZe7UZi1Y5usOuB/pGlPx6S4XGXSJiq4Kaa48hBBUJ2dciuL7dhZhNYuKeOVljHWSVIV0VbW3kLzTTBnF0SYqomtFEZXTp31a5Rzk5F9hWw6e/wAPzg1uggNHvHatdajrHC9eZO10MayiFEP0sEPkIiGLCiQETXW5L+7994O29Y6IeG3fPpZTqGnJ3cVkSb1G48e70vEnT1+2rK5Dr1/vpKC9L8I+iKUI4xDbiTyInFAPvK/MO8tLXG75/rlwwdmcB1IKQj/kyQ5ioA77lBFdguPGOYk83uKGOFJENi0t1WeLuYltSjH/Uxn5lB91X3evzNvhD7k8sUf0mWRLVOKqkNrqhJfT6529lvI6leA6Sa5CoKzegSV8Lvm9ZSCsqFSaZlmzqHz8sb83P3Omoqg8/rgqKp98Yqeg9Qpv5WvwUArQFbEr0c2lFEO0ZOsRFT6mgqa6PDBe6Z2SYhxi6tSK5yJPeBWjQUo3l5BeSKbMhAkVRSXSoW/ccHrYuA0caDU1qftE0CPnwe0BQfXOURbVJd8/33/vbOiLGIm5/34nUQSXiqh8/HGnV1TEiyxlaVHkORyxiYqyegDPvOjKkB9s7uz4Kw65d+DZuI/gzzk/qFjHoExLzYqoxFIhNdQJb8vz/Xjn+Na+on56DKISXCcJVYgsTnwFTKVlQ9FEpRKxi4rwMmFERYyIQF3CgBY0n1AEe+opFkasWZO4qIC9e51ExEZipYiMGF1AqBEG8S4DeFgBWtnCt7pe69kZJCpRD43oQUiasNGjXZpx/bojb8L69lVnA/uKyurVzia+g1jiIqIyBZVFxSdSARs3iiZFhzjcwoWhakAizhX1yigrf4AVfydn4N3rsxYs40vhfPNw54KUSkPNxopKXBUSqU72dQ3OV0L7ivrgOom9QmQT7/Lh+L3gIHVRQYggGtqxiMqCBXZKpfUrMseP290mcCVbt9qJNYhK8Nq4SrO/5GlL0DMvQngGDap+Lla5++6ee+xNsHOrPL8A9cBTFi1S8weIStRDW2X1amhQQxY09pVhMDhuRX5QsfIgkK+oyKMmBw/6HF2cpryANKqoWOUFm/L0MG7Kwp1qxP97Knjgg5/t4F5+4XrCZItqWn5PJZYKSahOdP2eSnCdJFohVbdKT1R27WId97diFRXhfbBnOFkvLS3OQL3wbnxsgJNOpMLhyzu4ffWVuuG1a8638vQ2Afz1vfe6umgQ8ciz1PjnSi9+DhCVSIdGACTeWXD1KpvwLXtkvnLwwgWnlw/b4lrLC3TkNZK+ooIIUmT+6COf8ojfTZDH3iOJCu5Gsf4f+eWgCvdSlGGV7P1IVz2/ikg/0qUY/UiX19ITFbjUkSOdP2MRFTF3qFLzf/x4u/XtOyBsSaLyyCOu9CREpb3dadpDAJQXiljS+HP//j5dZLxTSH4Xy5/+xFLmzmVKsHw50xK06yu9yyRAVCIdetIktZesudkZ50dhwOefs2EkGcgMX98OGzrUSfcVFXlKtzxqIhALVOWlJ5FEpU8ftct01SrnwkX5GcrsiUoK/oJERYFEJQJiFo2YZOXLkiUsj7x2b+VKe0NlqXPA7C8hKuLHSJQfdHn0UcchXr9u/7gk/rXcPSryBKRXXrETR4xgf0JCeCtVDK3Lq0DCIOucN2Joaip/dbu/++YiIZy7UB2cJvQJjlt2x3z6nIjDqiJmhXl7xgIP3akcGqKCa6285kvcBghcrLKolDwLPsTiFflNLa2t/mIv5gGXpOWrHLEWByoi97aJ2V/K4hjEOjxdnjUOUVEmN1uWcy+J3tEQcFFZr0VUwrz1T4u/IFFRIFGJAH9dEjffyTM//cQe5pJn0FW8BUt2lJY0S9irUnzZttJ/Ii+W5FsNH86Mt53hd/g6iUOHnDxo5546xfpnxGs/eE64QmzFJUd4KIQykdiyxdmnMv+KM2WKkwHnLi/juHTJaaGXut5gNmaME9/IM8fEO07wAVEI3Dqixtmz2fgK9MarheIqyF1GNRwaooI/IfAyYsSI/5I0FxU4bll7xC/NyG80QDnFEWVQLeLQ4iU6HLHCSflROBEtKfPrRH5ZzPhUcqVvja8PjfjDxqlEKq36PUUkf0GiomC0qIT4TbNIFuom8e1h5ss+5PUN+DxgAOt8HzyYjSEPHOiaSiu/NautzRnhwFbwRDw+gK8XylEqd3Nxr4Rvd+xwjoVt5b6jl1926Yps3MfxPYjXTcoFltcrlMq/cXLxIpv8KlJwrIMHw765Fm1k+V0sEKpPPlHDEdSbHF1BvaZOdd5kxV+C4mvKxKSqP12MCue7hYvctMmpPYgH3LG3jyvkobmolMrD8jhf1Az2xjVYeG0uKrz2cAmQB+LBC4xbQigEPojVM6Xyi9pkb442ipB2CCfCXDQ4xOvO3nzTyQlFnDvX2Q9iMjHAhhLKdxoqhN9pYn3S9Oms3QMN+/BDO2XBglDX2rKfi4iiUv0BjvlnYus3eQyGREWxPIhK3FZjpDJjRhWP5jXxbkcxDCMbFEiJOYSh4el9rWTJ/QIPOES5oV0qzzJSJg5hP7LIwfsfPsz8nfBc2CGckW8ZlIa5F9GN42vKMo6jR30WG375pf0tii1cnvCGymIUq+wulVP2Gjb88UcfNS1Jr/ySCXNoISqKPfOME5dwUfGeIyIz0Te1caP/fsROOsqjUGigKBlQQrlIEAnflZtLljj9pcqdZlnqaZa65DZ4daofNKbiA4mKAolKJrl1i03ramhgb9aCfvhO4EGUsGcP66GSh1WQiIZ81Zd6pcyJEyzKgY/bvt2/N4YPniNKQ3i3ezfTLQSOH39svfceW74jAr5Vq2I+NH+jPmobkQSOiCAG/0JTZRA68D4oZN6wgXUDrlxZcdVnVRBG4AItWsTOzvtzBrWBwuCKY8+IfrBblBDl9P1pn2qoovLplhbtT7V2f1EcUcHlDiMqbeevyNm2HrykveTJ2fg5G8SZNu2M5VfTieTZuZMJRr9+FSa/ljvr+KjV0qXplixLRHsfSwWYqMxesV08RbNW7NL+VCdkcIWyv/hiy9FKlQJXUhAfOm/1XnGauA0CbhS5Qhb/9YD2kidkSuh2rMVvqQdhGgit+IznF14IysYHz49WfPCJWGCiIjfMYSubTmh/tmO3XceuTXl3q3yaaH1XqhSlYY4Nsbn2U4jdcKHl0wzu6lm4ZrfICW3OZTdp057zf3x7ozjNCW95fqaQMBMeppTKCx7lhRoChC982JnPkyZsov1OcEiYqCg+lPf5oDWaJ5NjlKqtcsvtQ7kb1X4K8ZrcE1hVZS3PsAoMUY72s4jXlJsk5gGVRJ5foszVq64h+p492eD5nDlsKsSbb7LV5nzqwaBBoX61nqgP+52XSrCSb0MLNNiBWmWhRTbtRU3NwjhQRWhrs3G6zzSkTfvLd5evVliJTRjI99/7vNJRnrL1/vthp0ET9eG8SLmhcX/6j+7QP8xP+YiQim37zwTUiADZCqIruPRhKgROFq422s5f1392NRiuO42mZJLNm9nP6A4ezIKV7t3ZCqGJE9lEJuU3S4gkcb2d/4utR9N0o4NHT/9v//1/pOksZq/YHslZILM8iyF/hssdMGHBC3Ql90EtAjKKUQiiZtSffMHj1LTzJJ4rONOkrccv+5RKpf/4z2dSOBZcYcgAxQs2xOYpFPLJWZ9CaH/31KIUjoVLDDmpzXu2nb+CbVMo5OvLvntg7EzUySvvb0zhcLjKFKAQRJ1U+B2x5GlsbOQ/a/HP//zP6R651qnYyffHoip4nTR6VwsXkokTJ/IKGUGTdhIhlmUJBOFCm6gMGDDg9ttv5y5j/vz5uophDqgEXhuoFlSO7uLop729vVu3buI3tQ4dyvLidoIoDHpERYQpmoIVExFhSszBSmYboyJMoWCFIBImTjehR1TkMIWCFUsKUyhY4ShhijdYyaxW5hy6LoQGUVHClHwHKyEHYpQwpdAjK+UqU8IUClYIIitoEBVvmFLwYEUJUyhY8Q1TvMFKZqHWfDzQUkYzSVtUfMOULAYrMd7QvmFKkYMV3zCFghWCyARpiwpa30JCfv3rX+MDPIholhYwWBFhys9+9jPuTFEtQmaMDFaSbSDKYQpOv3fv3v369XvkkUfyFazkiKzFXabFN/rqrzPwz6ibO6QqKjxMgcfk4sF9qFX2IxMnToAr6d69e5rlMQGcMpeT9vKbJLjKWmWx4dJSb7Bi2jNUDX5XQE74if+fMhb7SfVDXFrwr+4yEgRRkVRFBf5CjkWEqHDK0jJx+fLlaRZJLzhZISccISocVJf8ZxEYMmSIrKNCVDhcWtILVtJuRsbcBMhaFEGYQ+33jrbFj5ZHVAjLIyqEIioEURukr6lBomIWJCoKtYlK1vr8CCI/kKiYBYmKAkUqBJEtSFQqoClaJlFRIFEhskwRe91IVMyCREXBFpXkns0iPvUEkSAkKmZBoqJAkQpB1EG1RlMCw4/J+vTgE4ooKoUYfCVRUSBRIRKgbmdSCG9UIwWLVIzv6yBRUciVqBh/+xFE/RRMVIyHREVBs6hQg9QsSJYzAImKWaQlKplxlrmKVHJBlv16Zm77TEOiYhbFilRC+CcSFYLIFiQqZlEsUQmBEJUsN5CJJKE7oyaSqzYSFbMgUVGgSMVU6ulKom6oejBdRfWLCkEEQ6JCELGSrKjrFJXGxsaJhBv40DvuuEN3KcyigD/dphkKJIg6oN4ns4Co/PznP9ddCoIgKmN6/5NmSFTMgkSFIIhMQ6JiFiQqKtQqTB+qc6IOSFRSperTSqJCEKGggR9TIVExq11WMFEhx0AQeYNExSwKJioEEScmtQ+LC4mKWZCoEETOKFo8TqJiFiQqBEHUjAkCRqJiFiQqqWDCo0dkGepoqwyJilmQqBAEkWlIVMwiOVGhppW5UOCUAxJ6wDJ4b5CoGIB0O9YpKpruwAze+AThD93M9UKiUh9xN0+o+4sgiEyTe1HJWK9PJkQlY3VKEESK5F5UakFjAJyYqFQSAmMFIj+9EAmdibFXjig40USF7uOkyUSkEjN0VxFWnloRRYcilQA0eLsiigpB5JcCamV1UanZsxawNuuHRIUgCJVMOVOKVMwiF6KSSISXqceKIIoLiYpZ5EJUCEKiQM0BGh5kkKiYBYlKcSAPRBhB3KpPopI8Ua4ZiQpBENlDfi2If46MRKxt56/sO9qeJ/tFj//1P391t/ZixGjHWi7Wc4mpOZ8uGXnyCYPJWKQCFfliy9GFa3ZPeGvD2Ne+IsuQzV6xfdWGQ9v2n9F9E8UHeWCC8JAZUUGbF15Ju2ckq98mL9wEddF9Q0UllpCJVCgiGaswiqsZGRAVRCeJysk43U62mAZpadp5UvfNRWSVjMlNkTBdVOB3pJ6u9ck4uIR2S1bdGhr3X756M807qk5nRL6MIIIxWlRWbTjk64nmrd67sunEuu1nm1tuNbfeYv+SGWxbD176dEvL4r8e+OPbG71Xc9pfvotdVzS7fuoFIQqMuaLiVZTxczbAMe06dk27l9RqnboLUJehKeCVlhp1xeO7M+LMM1LMyFAURzAMFZWmnSdVv7P070WTkwO6C5CcNaw/olzf2Su2677pCCJ+8tqCCMBEUTnWclGZMYwAJSkHd0a/h9Vp+joPm/acR+gpX+UMTgkjCELFRFFR5nolqChkWs2rK23nr+i++0JTwCZobRjeK0bXMRaqr6jXx76j7bKXmbVil3bfR5acfbqlRb7cC9fsTvuGM9zlEWlBN0JcGCcqcpiCZmzRxlEKaPNW75V1pc7XuhAEoRezRAUOhTq+imZbD16SO8EaGvfrvg2JwpPFPjFjymyWqMjTiClMKY6h9SCu+4S3NtR7G4XqyKDejvShOi8E6YpKNS2d9pfv5BWO2p0dWTrWtOc89YDVAnlpwjzMilRkz/Lplhbtzo4sNZN7wL7YclT3nRgb5PYJQ0jtVtQrKq7Ipe38FVlUqO+rUDZt6d+LsmAl6sOtWZdCHt6YHn1CNwZFKspkYu1ujqxWq+VFMvKwij1WT27KBOgqEBGpKirp3VMkKkU2WVRqe2WLWd6Pur2IokKRSsyW4xd2JWr1iwpBECbgIyq62lgZEJVsvGY/g68xbs2OqJgVEMVB/s6I0ApFKmRGWGZEhSCIQEhUyIwwEhVDiBy3mDF6ROGWOZCoZMTy/or+PIoKOTqiiJCo5N46dBcglOVRVIgYIGXOHCQqZG7TFBKlIiodyv917USmri4gM/qPkoEkoYDkTlTy3k2UV8tnpML14uxZa/Zs69VXNRcmTa5ds5YsYWfd2lrXfiJXHamYfnInKpEsG1OEC2GpisrKldakST729NPWtGnWvHnW559bP/4Yw4E2brRGjLBKJWY9esSww6yAOuRnPWRIjXsobNVln2KLCpkxFpOohOtK2rTJeu456667bJ/ltdvK/w4dajU311oSy3r/fdc+Hc9YgNY05Jmfde/etWxeseqIDBC3qNTRP0yiUmTT0P1165ajK716MaU5fNj66CNrzBjHnXXrZn37bY37v3nTunHD+uCDwnlGiOaRI9bAgeyU166tZQ+FrbosI3w/RSrZtNwNHekZU0EsUip1wm3dfbcr/bXXXLpy7lzthzhwQPKMBYhRYsRVdURmIFEhM8JiEZUwcbLLrz/yiO22FFFBpmHDHF154YXaysM4fjwmz2jCJLHqZYizlLFVHZEqJCpFNoOWsIQVlXjb+r//vb+ogCVLHFG5997aD3HqVLKe0QStCUvEsiZddUQyJCoq0RxAgqKSu86i/Jme7q8AUdm50xGVnj0r7uH8eTYAEMDp03F6xo4Oq6XFlXLhAksMg29RvX6+tdXqlFIvX2bzg31pb69yxIsXrUuXKn6LwuBYt25VzOCpuiwJaIHJTqRCwpBrM05Uvv8+KFJpbLTuu8/JMGAAm5F89qzPIbyicvAg61uz7T/sD1OmOJvs2ydlGGa98gpLxM5nzrS6d2e7gq7AI8+fz47LR31GjbJ++sl94C4PHLKokJx585h8Is+ePSxl+XI2f4Hvf+RIViGcY8essWPtktx1l/XEE6pWQZO++cZ66CGWYcwY9UA49NNPO1MksPN77rGmT/dRl3j1mEiLdEQlVEsqvkjFoF4dspBmnKjMmeM44uefd9Jv3LDGjbO94ZNPWm+9Zf32t3Y2OModO9T9eD0jGvhixi23ESOs775zNkGGpUvtr/r0YatqxIoNbkeO8CkGLhs9Wj10yKKev8i2lXe1bZtrSElsgqilqYntTfnqueecgzY0sDMVM7NRwzIQ1DvvtIM/lOeFF+w/YY8/Xr3qgqFpEGaQnUiFLNdmgqg4Tqm11eU6DxxwNkHDnCdu3uwkvvOOk1m06DmVPCPiDLGJd9bytWvlr26z2lqZxsBr/+EPTn7sCsV79lm2SBOCJ9I3bnTtJGRRr161Jk9me5P1A/tHYASpE/IGGzyY/du7NxtwQpknTHC+2rvX3j/imzfecHTl9//PVSQEJUK3ODg7sZN//MO36jopUskUJCpkRphmUenXz+4+unnT+vpru2+H26JFTv5Nm+zEqVPVXUGW+Ff9+7vSK4lKRwc7KP8KDl1hzRqWPnask3LrlqNzaOYfPux8df/9dvr06VWK2hlYVHnVDoIhgVgez7uzIELes5ZrCUBXbFFxRypiP/I4ENcq2GefuTJT91d9pB652QdMTVSqjrF1kKgU2eIVlbCPkxCVUlf/vvwnfPff/ubK/+CD9ldKOoAUiQ0RQAgCPOOXXzrHVUZE7r2Xpe/c6UoUUid7fEvqqZs4sa6i9u1rJ+7a5cq/b5+djgIovPCC/ZXyeq6GBn9R4Trap4+TgkslVpt+8IErM4lKNqFIhcwI0xyp9O7NnC+a22jsz5hhffwxc6zK+POFC44vPnWqK1XSL+H0n3nGSQz2jHCv/NuZM51ERCE8eFIQfUrYp8yyZXb6uHGBRZXwLSoCF99uqLY2P1EpNxPffNP+Sh5WAStW+IvK+fPW6tXOtLHjx62XX3aGVXAiMiQq2YREhcwIM2FMpQryfDBfxCSr++93EoM9I9SLfwvHeuWKnfin8vAGGvsKfGpWqdSpiIrYiRCVrqJ2RCrqwIH+oiKGPbyRihgZUkRFFEkRFUFTk/XAA3aUJgJEEpVcQKJCVqvF+o7nDIgKmthCVC5f9snAp1op3TvBnrGjw4k/4KDB9WtMYOBn5aELTpeoqJGKV1RqK6pbVJwO63hF5dAheyQGpzlvHlvIIgb8SVRyQRhRqWHJUUcN26UuKlFmHtMqmYQtA6IiD0UcPOiT4aWX7G8HD3YSq3rGP//ZznDXXWwS8Icfss9PPumTM7yo1FbUFCIVMYzUv7/zUyskKmXMW9pZY4koUiEzwuoUlRpv/0iicvKk46k/+sinCGL1iTxgXtUzQkjEtKslS6xBg9gHeRKzILyoVCmqpRaVV1/SotLWxiKw28ryef26kx5SVMxzuoQvJCpkRlgGIpXOTmdIWR6KEIwcaX8rrxcJ09wWrvn2wMKEF5Xaipq0qPAgrORZZi9EZelSl3AULFLJDfGKSl1tifpFZZ9uzxjW6BcnPaZHVMRKde9UK1/kZfbHj7u+unnTDjjg+uV3Z4mgIcAzXrniaAAMHtkXMfqCfcogFuHp8rqWGorKX/pS8kwpDhAVsYRl8mRX+sqVdrq8zn/KFDtRHshBYcSsgcWLWcrRo/ZXYaqOMA+KVNKwlV9seXf5Wti6zc0x7TNvr6KJS1SiLfjifU18PCMMV686XVV9+7rGwMXKDGV5/N69dnq3bkF7njHDzgZ1qfSGSjFLSukcE4d+8MG6isrf9FXyrMwXzt17CjNn2l899pgrfdEiO33oUCfxvfccnXvjDbY0BwcSk6pho0axX6QXPxbpW3Udyv/FxdgaIFGpbo+MnVAqc899/14pzx13/BPPIydu3d+GbX/xL91LEvgTiQFHEfzqX/8N9pvho6BGVTMriE14Tt8jGmVpRyrXrjnLO7g9/bS6qNCXH35wIgZo0urVrLMIrpCnvPmmKzNcufx6lfffd+YNK1y4YGuG/GZJDmKJS5esuXOd/TzxBHsBMAceX6zMxx527HAWq4cvKmRs7Vpn/w8/7Pwu2dmz7K1c4isIEtcnhDj79jk9chCwPXvsQ7e1uYq0bZudfvq0z3vDUEL5pzZhjY3Rqo4wDBKVCKICoBPeDM+/OldkkBXll716CzXCTmAQCZ4CqVB2xY8CyeFaApPVCPmDMyuG2CiPohLTWK3srRSTZ0NVor3debNIqWssBC1u7g0Fu3e78tzW9UF+w4oMX3uodFVZ5WnHXl9cKo/qy+5e2MCBQUUt+RX1zjs7vftB8KTorjD+HmVv+ogR1rRpQUWCdMnn8uijTC8RePFERGn8TS1K1QmrVHWESdQnKrEGYIaLCo9FoB/eDNAMIQAikSsKvlK6vPCn+Mp7FK/3R8zBD/1fT79YNXOlwudFVEzi6lX2fq1Fi9gQCJxgRcI9JIcOMafpO6heP96iapxJhRAEscv27a6FOAi8tm4N+m2VsNAUMf1QpBJWVBAr+PaAIeDgXlsWFR67IGLw3SE28UpUgPdH2MF3LvSpaKISd/exea7nySeZqKAhbySJ11dNF9jYQYWCQ6ISVlTwL48wlG4rrh/C7/NEHrh4x0KUrWSJCvb+yCkHK0UTlRzD/DV/uVb37nE01QlCMyQqEUQFPt3bA8b7vvBBiAriCaUrzGs8vpHzBHt//q0QIeNEpe43DhRLVK5cYdOfRo9mXVKITvhc3qVLdRfLHwoIiEiQqEQQFa4Wcnixpavvq1kSFQQoAX1fwng0I0bU/zPQ+89asEzeZ/BAvbwTilR04+eTFy9Wh6D79ctgmJKG3OjqqTSvhzQzFFdUDkQXleau4XfRAyb6viRR6QwpKnwmWMi5v8o+g6cUy4cmUTGR8oJzZ8JVr17O2+BNp6KzJS9McIorKuFN9stKDxjcN2SGf64zUqlBVAzq/iqmqNTcUu/oYD9v1bOn9b/7sZm7167FWSp/0vT5VeultsJQP1w2IFGJJipyDxj/LAbPlTEVITa+FnVMhYuZ+JZEJXtQS54oBiQqEUSFv1uMT8SCKnBHL6b5Rpr9xbcNP/uLT2im2V9EbRjZyCeZzSdZFZU03x2p+GU+jjJrwTIohxyOlEq3l9zrVPCt7wr8qOtUxHQysTcSFaIa5LIJPWRVVNI0xS/znisei8ir3JXuLD4OX9aVVkUh+Gi/MugSsKKeH6u2OV0kKpmms+IfqaIGOkYGPoQhkKhEFpXmrh4wue+r2SMq4t1fCEp+M3wUf/cXPvAYxRvE+M4SFm9/ifruL2X0xTenUUqTZVGJ2cV2BP6ZzDEJIjZIVGoRFe96eK+ocEMo431LsYhvDniOogAFwlFqeEtxmMnHVeenkahEpqB9TiRxYSlCTdUqKgnUjbGiUr/xH1OBiQnEZIrlRFSSpAj+iMgBFKmQGWHmikpBgw+C8CFMy4ZEhcwIM1dUaiA/MUV+zoRIjbyKSme9bq78M/LhX+USl6U5Vdooy5WoZIzOwD+LicZKyHz951VUyDJmJCoEkQ9IVMiMsFRFZcUKa9KkCPbNN67Ni9knpPWsU2i9x3R+xbw5XJCokBlhqYhKl2vauNF6+WWrd++Kv1Sv2NSpyZQnC2TKSWaqsLmFRIXMCNPQ/XX1KvuxRS4b997r+qqz0zp3jgU03bqxb596Ko3yHD3KfrydIJIjlfEaEpWkrUN3AbJhesZUHnzQX1QEBw+ybx97LI3CPPyw9fjjiew580O/WSaxyjf2qpKokBlhekQFfjxYVMDw4Sxb0hw+zIqRhKgY63uInEKiUtxZvEaZHlEZNaq6qDQ3W199lWwxrlyx+vTpVEWF1IDIBOqUdBIVMiPMXFEJoLPTamkJ9dvy585ZFy/6f3XjhvV/u3rh4opUfvyR7ZaD49686Z+tSvm7nAX2ANnjXLqUyu9UEhmGRIUsvCU4PmScqJw8ad15Z8UNlyyxBg2yh/Fhfftaq1f7ZGtstAYOdLL17GmNHu0ajd+1yzUJ7a67rGHDmP3ud2y8h3/mdviwvQkOJKfPmOHs7fp164MP2BGxq+XLmWDcdx/7jBNBgaOWH7L08susSOU8HT16sJ5A/Pv224F1qhMK7kwg06JCY+D5MeNEpaGB+Vwv7e3W0KH2Jq+/bj30kCMJY8e6ck6c6KS//741eLD9J3bb3GznmTnT6t/fmYSGr/AnDJnXrGEbip1v2WJvcuiQ9d57PvPWnn3WEQnY/PlWr17On/iKxyvhyz9kCEuELEGfUJgHHnD2LKA5vISHTIuKIea8Eib917rkxuoWlZoaqUJU0LqHt+UGjz9nDmvd+4oK98jTpjkpK1Y4flm09zdtslPuv9/JOXmynYgIQ0bswdv91RUoOKLCQQkVUUFUAZGQl9dg2xEjnCApUvkRY+FPSJfcdYYwSxGVuKAQI0eQqJAZYfFEKlF9kxAVX5NExW6Rb9jA0vv0sTrcTXQxNblHDztlxgw75aWXnGzbttmJvXu7Ng8Qlbvv9heVzZv9Yyw58ti9m6WcPGktXmydOhWt/M895/qTc/58dFGhWKZwkKjotjO6C2CGae7+QlwCh85t5Ei748gbqQwaxNKHD7d27HDZmDGOK+dj2uvW2X+uXetsDv+u+G5OgKhAM3xFReiTIiqPPWanT5rkOdtOlL/Dp/zbfcov+u5mznTtA/KTRKRC5AgSFTIjzLgxFXhnr6jIgxaVbN8+OzNkYNMm+/PNm9bnnzvDEt27u3Ybo6iMH2+nL1vmc77hy79+vZPSv7/17bf2HhCsXL7sW5dE3GS1T5BEhaySpToPwjhRQRNeEZWz7XbmqVOdARivdbp9wblz1quv8qGRjp49ExeVCRMqikp7lPLfuOEM55S6hp2amqrUJ5FPovVhkqiQGWExiUrExl2AqFy9ar34oitF+PEnnlAz+z50HR1sOJ0HB8OGsc2FW9ciKmyT2/3L78upU1a/fmocM3p0qHU5mWtmZ6y4RkOiQmaEGRepeNm71848aFD1zNevO3OIxRoRvaISqfwc6GJDgxqyPPywGo3phiYDGAWJCpkRlgFRuXbNcaybN/tkgKvFfn74gX1+9lk758KFToYkROWee1zpAaISqfzHjllnztjpCNpee82lK3v2+GxOEGWyKyq08jFXlgFRAWLJYf/+zntQBKtXs6/47KkePeycp087GYSooO0vEyAqfAUirLHRlS5ERQk7AkQlUvknTVJ7yZqbnXH+uXN9dh6aWsMcJyAxK1Ai3GRXVOIxWq5oiGl+9X3IHqE//ck1J6qlxU5HG3/DBuZzhw5lf8Jfi2yff+5sLlZE8hfAXLjAJlOBjz6y04cPt3MeOsTesmVJ71GW/fjlyywnT+/Tx1VCKAFPX7So9vJbZVFBIZXXfPHFKzAELgRRgaKLSm1GUhS7pSEq3vYtHCv3kmLBeTBw9HC1fJPbygtZ7ruPLfIQow4HDtg5Rba+fa3t2622NrbiXe5B+uorq9cvrU/XsMxi/i52uGMH+xMfDh5kX4l+Jxzim2/Y1OTvv1d/s3LvXrYVR7zZZeLEKuUvBZYfouKNnN55x86m68fEKELJAlpFxX2LpCoqtOTQMEs7Ujl+3Hr+eZdrnjGDuf6q8PeXlEod8rbe4RPulBVDoCCvFLnnHjZcYZVfKqzkFEsOUSRZBkSg09CgpiDsQCQk9o+Ub7/16ePqKr9tt1crP0KlkydZKIO98T49hHcJQHrhJsP1QZGKgVbE4aJqolLDBJ8KjyWSH33Ux+NzGzy4+vOMGKJPH9dWcOXKmAdiAv6WLW5wx19/zdLHjbNThg1zrSJcs8bZFYIMedruZ5+5pGjAAOvECdeYysqVTDwQEnlPxzcCC1N+X1GEPfNMja++j3eGFs33MhgSFTIjjInK9MqiYqATgWf/5BP2+uHt29kEYl+OHrU2bmQzqWR27HAGM2QgDPjKd1f4Ck4f0Ql2yGlvZ6+gF6v3Yy//6dP2T6388AN70wyCGPzb2urZS4Yb1ERCkKiQGWFxdn/Zjs5AIapAdkpaCxXOLt8nrZP4hL62PdUlKvHeFiQqRTY9s7+iUoh2eSFOkkgOilTIjDBZVBau2a37Zsw/JB3GkLeYzSBROdZyMbSodMbiyMjMsVkrdolLv2rDId03o5W/Rz0zUMVnHINEBciism77We2ejiw1m/LuVsNERSGiq0sgECBnS2QCs0Rl8sJNwrMs/usB7Z6OLB3bdeya3J7Yd7Rd622Ybe+d7dIT2ccsUWlo3C88C5qu2p0dWTrWsP6ILCq6b8M4IRdfHzT0kz3MEpVt+89QD1iMtk93AULaH9/emMYoPTl4gkges0QFTHhrg/Av8DXa/V2mnXUmbGXTCbkl0bTzZEK3VnE0pcqZBrb+i1NLREIYJyqrNhySXUzD+iPavZ4+y/8kt60HL42f4zQjJi/cVP0WIbID9V5FJvuqbpyoXL56Ux6uD9UJ1lohPUdvjTT1vch1yd6uY9fkSV/RwhRd7iqx45rvTLynbpZmmFWa4mKcqFiekRW0ZJv2nNftPTNk2XgfJRRFXpuiLKTX7B8MdvCJ1Qy5ZCIeTBQVyz0NjNvKphPa/WC2zNTghhlaCUqMMuGtDQhSdd93RLqQkMWIMS0hQ0UFTPvLd4quTFv69zAhC42im2wIUBb/9YA8jsLtWMtF3Xdc6mgPOoxxQ3WTnzOpG/1Cba6ooN3q1RXYrBW7ELXAN2n3j2SRDA0CXzlBjJLcjC+CIFLGXFGxyrri7QeTJxwjdiHLhFW6iFCUIsYoBJFfjBYVzhdbjsqLV8hyY7NXbI99HEV/8E8YD90kiZIBUbHKIYuyfoUs0wY50f2Cr6xBowZERsiGqHDazl9B1AJ/pN0nktVmkxduamjcT/1dBJFjsiQqBEEQRBQ0RLgkKtmBOkCIpDDz3jKzVEQVSFSI/EEDsQShDRIVgiCIHJN2G4tEhSCCoC4YA6CLkCVIVAiCIIjYIFEhCIIgYoNEhSAIgogNEhWCKAA+oxI0UEEkwv8HmWvzPRozxNkAAAAASUVORK5CYII=)"
      ]
    },
    {
      "cell_type": "code",
      "execution_count": null,
      "metadata": {},
      "outputs": [],
      "source": [
        "\n",
        "\n",
        "# --- Prepare features/targets from the existing split (train_df, test_df) ---\n",
        "\n",
        "# Columns from earlier data generation: [M00, M01, M02, M11, M12, M22, λ1, λ2, λ3]\n",
        "eig_cols = [c for c in df.columns if c.startswith(\"λ\")]\n",
        "feat_cols = [c for c in df.columns if c not in eig_cols]\n",
        "\n",
        "X_train = train_df[feat_cols].to_numpy()\n",
        "y_train = train_df[eig_cols].to_numpy()\n",
        "X_test  = test_df[feat_cols].to_numpy()\n",
        "y_test  = test_df[eig_cols].to_numpy()\n",
        "\n",
        "# --- Sweep polynomial degrees and evaluate on the test set ---\n",
        "max_deg = 8\n",
        "records = []\n",
        "\n",
        "for deg in range(1, max_deg + 1):\n",
        "    model = Pipeline([\n",
        "        (\"poly\", PolynomialFeatures(degree=deg, include_bias=False)),\n",
        "        (\"scaler\", StandardScaler()),                     # scale expanded features\n",
        "        (\"linreg\", LinearRegression())\n",
        "    ])\n",
        "    model.fit(X_train, y_train)\n",
        "    y_pred = model.predict(X_test)\n",
        "\n",
        "    mse = mean_squared_error(y_test, y_pred)             # averaged over all 3 targets\n",
        "    rmse_per_target = np.sqrt(((y_test - y_pred) ** 2).mean(axis=0))  # RMSE per eigenvalue\n",
        "\n",
        "    records.append({\n",
        "        \"degree\": deg,\n",
        "        \"MSE\": mse,\n",
        "        \"RMSE_λ1\": rmse_per_target[0],\n",
        "        \"RMSE_λ2\": rmse_per_target[1],\n",
        "        \"RMSE_λ3\": rmse_per_target[2],\n",
        "        \"n_features_after_poly\": model.named_steps[\"poly\"].n_output_features_\n",
        "    })\n",
        "\n",
        "results_df = pd.DataFrame(records)\n",
        "display(results_df)\n",
        "\n",
        "# --- Plot MSE vs degree ---\n",
        "plt.figure(figsize=(7, 4))\n",
        "plt.plot(results_df[\"degree\"], results_df[\"MSE\"], marker=\"o\")\n",
        "plt.xlabel(\"Polynomial degree\")\n",
        "plt.ylabel(\"Test MSE (averaged over λ1, λ2, λ3)\")\n",
        "plt.title(\"Polynomial Regression Baseline: MSE vs Degree\")\n",
        "plt.grid(True)\n",
        "plt.show()\n",
        "\n",
        "# --- Pick the best degree and report a concise summary ---\n",
        "best_idx = results_df[\"MSE\"].idxmin()\n",
        "best_row = results_df.loc[best_idx]\n",
        "best_degree = int(best_row[\"degree\"])\n",
        "\n",
        "print(f\"Best polynomial degree: {best_degree}\")\n",
        "print(f\"Best test MSE: {best_row['MSE']:.6f}\")\n",
        "print(f\"Per-eigenvalue RMSE at degree {best_degree}: \"\n",
        "      f\"λ1={best_row['RMSE_λ1']:.4f}, λ2={best_row['RMSE_λ2']:.4f}, λ3={best_row['RMSE_λ3']:.4f}\")\n",
        "print(f\"Number of polynomial features at degree {best_degree}: {int(best_row['n_features_after_poly'])}\")\n",
        "\n",
        "# Optional: expose a simple loss_dict for later comparison with NN\n",
        "loss_dict = {}\n",
        "loss_dict[\"Polynomial baseline (best MSE)\"] = float(best_row[\"MSE\"])"
      ]
    },
    {
      "cell_type": "markdown",
      "metadata": {
        "id": "gPOADuaZPVyM"
      },
      "source": [
        "## Simple Neural Network\n",
        "\n",
        "We now fit a small multi-layer perceptron (MLP) that maps the 6 input features to the three eigenvalues $(\\lambda_1,\\lambda_2,\\lambda_3)$.\n",
        "\n",
        "**Normalization.**  \n",
        "We standardize features using `StandardScaler` (fit on the training set only) so that all inputs have zero mean and unit variance. This often stabilizes and speeds up training.\n",
        "\n",
        "**Model.**  \n",
        "A simple MLP with two hidden layers and ReLU nonlinearity. The final layer has 3 outputs—think of this as a single shared body with a 3-dimensional “head” producing $(\\lambda_1,\\lambda_2,\\lambda_3)$ simultaneously.\n",
        "\n",
        "**Loss and optimization.**  \n",
        "We use MSE loss and Adam optimizer. We track train/test losses across epochs and plot learning curves.\n",
        "\n",
        "*(In the next sections we will add Dropout and BatchNorm to study regularization and normalization.)*"
      ]
    },
    {
      "cell_type": "code",
      "execution_count": null,
      "metadata": {
        "id": "lpGF8ziDC37e"
      },
      "outputs": [],
      "source": [
        "scaler = StandardScaler().fit(X_train)   # fit on train only\n",
        "X_train_scaled = scaler.transform(X_train)\n",
        "X_test_scaled  = scaler.transform(X_test)\n",
        "\n",
        "# Convert to PyTorch tensors\n",
        "X_train_t = torch.tensor(X_train_scaled, dtype=torch.float32)\n",
        "y_train_t = torch.tensor(y_train,         dtype=torch.float32)\n",
        "X_test_t  = torch.tensor(X_test_scaled,  dtype=torch.float32)\n",
        "y_test_t  = torch.tensor(y_test,          dtype=torch.float32)\n",
        "\n",
        "X_train_t.shape, y_train_t.shape, X_test_t.shape, y_test_t.shape"
      ]
    },
    {
      "cell_type": "markdown",
      "metadata": {
        "id": "DHYh2ZiKC_Td"
      },
      "source": [
        "### Model definition\n",
        "\n",
        "The input size equals the number of unique entries in a symmetric $3\\times 3$ matrix (6 features).  \n",
        "The last layer outputs 3 numbers (a multi-output head), one per eigenvalue."
      ]
    },
    {
      "cell_type": "code",
      "execution_count": null,
      "metadata": {},
      "outputs": [],
      "source": [
        "class EigenvalueNet(nn.Module):\n",
        "    def __init__(self, dim: int = 3, hidden: int = 64):\n",
        "        super().__init__()\n",
        "        input_size = dim * (dim + 1) // 2  # 6 for dim=3\n",
        "        self.net = nn.Sequential(\n",
        "            nn.Linear(input_size, hidden),\n",
        "            nn.ReLU(),\n",
        "            nn.Linear(hidden, hidden),\n",
        "            nn.ReLU(),\n",
        "            nn.Linear(hidden, dim)          # multi-output (λ1, λ2, λ3)\n",
        "        )\n",
        "\n",
        "    def forward(self, x):\n",
        "        return self.net(x)\n",
        "\n",
        "model = EigenvalueNet(dim=3, hidden=64)\n",
        "model"
      ]
    },
    {
      "cell_type": "markdown",
      "metadata": {},
      "source": [
        "### Training loop \n",
        "\n",
        "- Each epoch:\n",
        "  1. `model.train()` → iterate over mini-batches, backprop, update weights, accumulate average train MSE.\n",
        "  2. `model.eval()` → disable gradients, run on test set, compute average test MSE.\n",
        "- We print progress every few epochs.\n",
        "- Optional: gradient-norm logging (for debugging) and gradient clipping (stability)."
      ]
    },
    {
      "cell_type": "code",
      "execution_count": null,
      "metadata": {
        "id": "uXlCtGM1_mlP"
      },
      "outputs": [],
      "source": [
        "from torch.utils.data import TensorDataset, DataLoader\n",
        "import torch.nn.utils as nn_utils\n",
        "\n",
        "def make_loaders(X_train_t, y_train_t, X_test_t, y_test_t, batch_size=64):\n",
        "    train_loader = DataLoader(TensorDataset(X_train_t, y_train_t), batch_size=batch_size, shuffle=True)\n",
        "    test_loader  = DataLoader(TensorDataset(X_test_t,  y_test_t),  batch_size=batch_size, shuffle=False)\n",
        "    return train_loader, test_loader\n",
        "\n",
        "def train_model(\n",
        "    model,\n",
        "    train_loader,\n",
        "    test_loader,\n",
        "    criterion,\n",
        "    optimizer,\n",
        "    epochs=100,\n",
        "    log_every=20,\n",
        "    grad_clip=None,          # e.g., 1.0; set None to disable\n",
        "    log_grads=False,         # print gradient norms\n",
        "    scheduler=None           # optional torch.optim.lr_scheduler\n",
        "):\n",
        "    train_losses, test_losses = [], []\n",
        "\n",
        "    for epoch in range(1, epochs + 1):\n",
        "        # --------- Train ---------\n",
        "        model.train()\n",
        "        total_train_loss, n_train = 0.0, 0\n",
        "\n",
        "        for xb, yb in train_loader:\n",
        "            pred = model(xb)\n",
        "            loss = criterion(pred, yb)\n",
        "\n",
        "            optimizer.zero_grad()\n",
        "            loss.backward()\n",
        "\n",
        "            if grad_clip is not None:\n",
        "                nn_utils.clip_grad_norm_(model.parameters(), grad_clip)\n",
        "\n",
        "            optimizer.step()\n",
        "\n",
        "            # accumulate for epoch average\n",
        "            bs = xb.size(0)\n",
        "            total_train_loss += loss.item() * bs\n",
        "            n_train += bs\n",
        "\n",
        "            if log_grads:\n",
        "                # print (or collect) gradient norms for each layer (optional, lightweight)\n",
        "                with torch.no_grad():\n",
        "                    norms = {name: (p.grad.norm().item() if p.grad is not None else 0.0)\n",
        "                             for name, p in model.named_parameters()}\n",
        "                # You can print selectively; here we keep it quiet by default\n",
        "                # print({k: f\"{v:.3f}\" for k, v in norms.items()})\n",
        "\n",
        "        train_loss = total_train_loss / max(n_train, 1)\n",
        "        train_losses.append(train_loss)\n",
        "\n",
        "        # --------- Evaluate ---------\n",
        "        model.eval()\n",
        "        total_test_loss, n_test = 0.0, 0\n",
        "        with torch.no_grad():\n",
        "            for xb, yb in test_loader:\n",
        "                pred = model(xb)\n",
        "                loss = criterion(pred, yb)\n",
        "                bs = xb.size(0)\n",
        "                total_test_loss += loss.item() * bs\n",
        "                n_test += bs\n",
        "\n",
        "        test_loss = total_test_loss / max(n_test, 1)\n",
        "        test_losses.append(test_loss)\n",
        "\n",
        "        # --------- Scheduler (optional) ---------\n",
        "        if scheduler is not None:\n",
        "            scheduler.step()\n",
        "\n",
        "        if (epoch % log_every == 0) or (epoch == 1) or (epoch == epochs):\n",
        "            print(f\"Epoch {epoch:3d} | train MSE: {train_loss:.6f} | test MSE: {test_loss:.6f}\")\n",
        "\n",
        "    return train_losses, test_losses"
      ]
    },
    {
      "cell_type": "code",
      "execution_count": null,
      "metadata": {},
      "outputs": [],
      "source": [
        "# Build loaders\n",
        "train_loader, test_loader = make_loaders(X_train_t, y_train_t, X_test_t, y_test_t, batch_size=64)\n",
        "\n",
        "# Define model/opt/criterion\n",
        "model = EigenvalueNet(dim=3, hidden=64)\n",
        "criterion = nn.MSELoss()\n",
        "optimizer = torch.optim.Adam(model.parameters(), lr=1e-3)\n",
        "\n",
        "# Train\n",
        "train_losses, test_losses = train_model(\n",
        "    model,\n",
        "    train_loader,\n",
        "    test_loader,\n",
        "    criterion,\n",
        "    optimizer,\n",
        "    epochs=100,\n",
        "    log_every=20,\n",
        "    grad_clip=None,   # set to 1.0 if you see instability\n",
        "    log_grads=False\n",
        ")"
      ]
    },
    {
      "cell_type": "markdown",
      "metadata": {},
      "source": [
        "### Learning curves"
      ]
    },
    {
      "cell_type": "code",
      "execution_count": null,
      "metadata": {},
      "outputs": [],
      "source": [
        "import matplotlib.pyplot as plt\n",
        "\n",
        "plt.figure(figsize=(7,4))\n",
        "plt.plot(train_losses, label=\"Train MSE\")\n",
        "plt.plot(test_losses,  label=\"Test MSE\")\n",
        "plt.xlabel(\"Epoch\")\n",
        "plt.ylabel(\"MSE\")\n",
        "plt.title(\"Training and Testing Loss Curves (Simple NN)\")\n",
        "plt.grid(True)\n",
        "plt.legend()\n",
        "plt.show()"
      ]
    },
    {
      "cell_type": "markdown",
      "metadata": {},
      "source": [
        "### Evaluation: per-eigenvalue RMSE\n",
        "\n",
        "To compare with the polynomial baseline, we compute:\n",
        "- overall **MSE**, **MAE**, **RMSE** on the test set,\n",
        "- **per-eigenvalue RMSE** for $(\\lambda_1,\\lambda_2,\\lambda_3)$.\n",
        "\n",
        "Optionally, we can sort the model’s outputs at evaluation time to match the target ordering."
      ]
    },
    {
      "cell_type": "code",
      "execution_count": null,
      "metadata": {},
      "outputs": [],
      "source": [
        "import numpy as np\n",
        "import torch\n",
        "\n",
        "def evaluate_on_loader(model, loader, sort_outputs: bool = False):\n",
        "    \"\"\"Evaluate model on a DataLoader and return metrics.\n",
        "    \n",
        "    Args:\n",
        "        model: trained nn.Module\n",
        "        loader: DataLoader with (X, y)\n",
        "        sort_outputs: if True, sort each prediction vector ascending to match (λ1 ≤ λ2 ≤ λ3)\n",
        "    Returns:\n",
        "        metrics dict with overall MSE/MAE/RMSE and per-eigenvalue RMSE array\n",
        "    \"\"\"\n",
        "    model.eval()\n",
        "    preds, targets = [], []\n",
        "    with torch.no_grad():\n",
        "        for xb, yb in loader:\n",
        "            pb = model(xb)\n",
        "            if sort_outputs:\n",
        "                pb, _ = torch.sort(pb, dim=1)  # enforce ordering at eval\n",
        "            preds.append(pb.cpu().numpy())\n",
        "            targets.append(yb.cpu().numpy())\n",
        "    y_pred = np.concatenate(preds, axis=0)\n",
        "    y_true = np.concatenate(targets, axis=0)\n",
        "\n",
        "    mse = np.mean((y_true - y_pred) ** 2)\n",
        "    mae = np.mean(np.abs(y_true - y_pred))\n",
        "    rmse = np.sqrt(mse)\n",
        "    rmse_per = np.sqrt(np.mean((y_true - y_pred) ** 2, axis=0))\n",
        "\n",
        "    return {\n",
        "        \"MSE\": float(mse),\n",
        "        \"MAE\": float(mae),\n",
        "        \"RMSE\": float(rmse),\n",
        "        \"RMSE_per\": rmse_per\n",
        "    }\n",
        "\n",
        "# Example usage on the test set:\n",
        "metrics = evaluate_on_loader(model, test_loader, sort_outputs=False)\n",
        "print(f\"Test MSE : {metrics['MSE']:.6f}\")\n",
        "print(f\"Test MAE : {metrics['MAE']:.6f}\")\n",
        "print(f\"Test RMSE: {metrics['RMSE']:.6f}\")\n",
        "print(\"Per-eigenvalue RMSE (λ1, λ2, λ3):\",\n",
        "      \", \".join(f\"{v:.6f}\" for v in metrics[\"RMSE_per\"]))"
      ]
    },
    {
      "cell_type": "code",
      "execution_count": null,
      "metadata": {},
      "outputs": [],
      "source": [
        "import matplotlib.pyplot as plt\n",
        "\n",
        "def scatter_pred_vs_true(model, loader, titles=(\"λ1\",\"λ2\",\"λ3\"), sort_outputs=False):\n",
        "    model.eval()\n",
        "    with torch.no_grad():\n",
        "        y_true_list, y_pred_list = [], []\n",
        "        for xb, yb in loader:\n",
        "            pb = model(xb)\n",
        "            if sort_outputs:\n",
        "                pb, _ = torch.sort(pb, dim=1)\n",
        "            y_true_list.append(yb.cpu().numpy())\n",
        "            y_pred_list.append(pb.cpu().numpy())\n",
        "    y_true = np.concatenate(y_true_list, axis=0)\n",
        "    y_pred = np.concatenate(y_pred_list, axis=0)\n",
        "\n",
        "    cols = y_true.shape[1]\n",
        "    for k in range(cols):\n",
        "        plt.figure(figsize=(5,4))\n",
        "        plt.scatter(y_true[:,k], y_pred[:,k], s=8, alpha=0.5)\n",
        "        mn = min(y_true[:,k].min(), y_pred[:,k].min())\n",
        "        mx = max(y_true[:,k].max(), y_pred[:,k].max())\n",
        "        plt.plot([mn, mx], [mn, mx])\n",
        "        plt.xlabel(\"True\")\n",
        "        plt.ylabel(\"Predicted\")\n",
        "        plt.title(f\"Predicted vs True — {titles[k]}\")\n",
        "        plt.grid(True)\n",
        "        plt.show()\n",
        "\n",
        "# Example:\n",
        "scatter_pred_vs_true(model, test_loader, sort_outputs=False)"
      ]
    },
    {
      "cell_type": "markdown",
      "metadata": {},
      "source": [
        "### Comparison: Polynomial Baseline vs Neural Network\n",
        "\n",
        "To summarize results, we collect test MSE values from:\n",
        "- the best polynomial regression baseline,\n",
        "- the trained neural network.\n",
        "\n",
        "This lets us quickly see how much the neural network improves (or not) over a strong but simple baseline."
      ]
    },
    {
      "cell_type": "code",
      "execution_count": null,
      "metadata": {},
      "outputs": [],
      "source": [
        "# Start dictionary with baseline\n",
        "loss_dict = {}\n",
        "loss_dict[\"Polynomial baseline (best MSE)\"] = float(best_row[\"MSE\"])\n",
        "\n",
        "# Evaluate NN on test set\n",
        "nn_metrics = evaluate_on_loader(model, test_loader, sort_outputs=False)\n",
        "\n",
        "loss_dict[\"Neural network (MSE)\"] = nn_metrics[\"MSE\"]\n",
        "# loss_dict[\"Neural network (RMSE)\"] = nn_metrics[\"RMSE\"]\n",
        "\n",
        "# Show results\n",
        "for k, v in loss_dict.items():\n",
        "    print(f\"{k:35s}: {v:.6f}\")\n",
        "\n",
        "print(\"Per-eigenvalue RMSE (λ1, λ2, λ3):\",\n",
        "      \", \".join(f\"{v:.6f}\" for v in nn_metrics[\"RMSE_per\"]))"
      ]
    },
    {
      "cell_type": "markdown",
      "metadata": {
        "id": "ZgLauX_Lqduw"
      },
      "source": [
        "## Deep Neural Networks\n",
        "\n",
        "**Why study neural networks?**  \n",
        "A fundamental reason behind their success is the _Universal Approximation Theorem_. One formulation states:\n",
        "\n",
        "> Feedforward networks with a non-polynomial activation function are dense in the space of continuous functions between Euclidean spaces.\n",
        "\n",
        "In plain terms: with enough width/depth and the right nonlinearity (e.g., ReLU), a feedforward network can approximate any continuous function on a compact domain arbitrarily well.\n",
        "\n",
        "**Important caveats.**\n",
        "- The theorem is _existential_: it does not specify how large the network must be or how to find the weights by optimization.\n",
        "- Approximation power does not imply good **generalization** or easy **optimization**.\n",
        "- Larger networks can overfit; we will later study **Dropout** and **Batch Normalization** to improve training dynamics and generalization.\n",
        "\n",
        "**Experiment.**  \n",
        "We now construct a substantially deeper MLP that maps the 6 inputs to the three outputs $(\\lambda_1,\\lambda_2,\\lambda_3)$ and compare its performance to the polynomial baseline.|"
      ]
    },
    {
      "cell_type": "markdown",
      "metadata": {
        "id": "qPBd5CDJters"
      },
      "source": [
        "### 1.2.1 Big Neural Network"
      ]
    },
    {
      "cell_type": "markdown",
      "metadata": {
        "id": "szx2NUTCW-KO"
      },
      "source": [
        "There can be an idea that we can take a big Neural Network and get good results."
      ]
    },
    {
      "cell_type": "code",
      "execution_count": null,
      "metadata": {
        "id": "2emINts6tdxs"
      },
      "outputs": [],
      "source": [
        "def build_mlp(input_dim: int, output_dim: int, hidden: int = 32, depth: int = 12, activation=nn.ReLU) -> nn.Sequential:\n",
        "    \"\"\"\n",
        "    Build an MLP with `depth` hidden layers of size `hidden`.\n",
        "    Final layer has `output_dim` units (multi-output head).\n",
        "    \"\"\"\n",
        "    layers = [nn.Linear(input_dim, hidden), activation()]\n",
        "    for _ in range(depth - 1):\n",
        "        layers += [nn.Linear(hidden, hidden), activation()]\n",
        "    layers += [nn.Linear(hidden, output_dim)]\n",
        "    return nn.Sequential(*layers)\n",
        "\n",
        "def count_parameters(model: nn.Module) -> int:\n",
        "    return sum(p.numel() for p in model.parameters() if p.requires_grad)\n",
        "\n",
        "# Problem dimensions\n",
        "dim = 3\n",
        "input_size  = dim * (dim + 1) // 2  # 6 features for a 3x3 symmetric matrix\n",
        "output_size = dim\n",
        "\n",
        "# Build a deeper model (you suggested many ReLU blocks with width 32)\n",
        "deep_width = 32\n",
        "deep_depth = 12  # number of hidden layers\n",
        "big_model = build_mlp(input_dim=input_size, output_dim=output_size, hidden=deep_width, depth=deep_depth, activation=nn.ReLU)\n",
        "\n",
        "print(big_model)\n",
        "print(f\"Trainable parameters: {count_parameters(big_model):,}\")"
      ]
    },
    {
      "cell_type": "markdown",
      "metadata": {
        "id": "TmOSBWUIPiGz"
      },
      "source": [
        "### 1.2.2 Training loop"
      ]
    },
    {
      "cell_type": "markdown",
      "metadata": {
        "id": "7dxtDJ09vQds"
      },
      "source": [
        "Let's train it."
      ]
    },
    {
      "cell_type": "code",
      "execution_count": null,
      "metadata": {
        "colab": {
          "base_uri": "https://localhost:8080/"
        },
        "id": "e_tTvmm6Ihcd",
        "outputId": "f8740f81-349c-4632-d1a9-c2c547d071ef"
      },
      "outputs": [],
      "source": [
        "# Train the deep model with the same loop and loaders used before\n",
        "criterion = nn.MSELoss()\n",
        "optimizer = torch.optim.Adam(big_model.parameters(), lr=1e-3)\n",
        "\n",
        "deep_train_losses, deep_test_losses = train_model(\n",
        "    big_model,\n",
        "    train_loader,\n",
        "    test_loader,\n",
        "    criterion,\n",
        "    optimizer,\n",
        "    epochs=500,\n",
        "    log_every=20\n",
        ")\n",
        "\n",
        "# Evaluate\n",
        "deep_metrics = evaluate_on_loader(big_model, test_loader, sort_outputs=False)\n",
        "print(f\"Deep NN — Test MSE : {deep_metrics['MSE']:.6f}\")\n",
        "print(f\"Deep NN — Test MAE : {deep_metrics['MAE']:.6f}\")\n",
        "print(f\"Deep NN — Test RMSE: {deep_metrics['RMSE']:.6f}\")\n",
        "print(\"Deep NN — Per-eigenvalue RMSE (λ1, λ2, λ3):\",\n",
        "      \", \".join(f\"{v:.6f}\" for v in deep_metrics[\"RMSE_per\"]))"
      ]
    },
    {
      "cell_type": "code",
      "execution_count": null,
      "metadata": {
        "colab": {
          "base_uri": "https://localhost:8080/"
        },
        "id": "EVsiWWuZJTAE",
        "outputId": "69ceba7c-d8a2-4288-b079-d28869113168"
      },
      "outputs": [],
      "source": [
        "# Learning curves for the deep network\n",
        "import matplotlib.pyplot as plt\n",
        "\n",
        "plt.figure(figsize=(7,4))\n",
        "plt.plot(deep_train_losses, label=\"Train MSE (deep NN)\")\n",
        "plt.plot(deep_test_losses,  label=\"Test MSE (deep NN)\")\n",
        "plt.xlabel(\"Epoch\")\n",
        "plt.ylabel(\"MSE\")\n",
        "plt.title(f\"Deep NN Learning Curves (depth={deep_depth}, width={deep_width})\")\n",
        "plt.grid(True)\n",
        "plt.legend()\n",
        "plt.show()"
      ]
    },
    {
      "cell_type": "code",
      "execution_count": null,
      "metadata": {
        "colab": {
          "base_uri": "https://localhost:8080/",
          "height": 564
        },
        "id": "WPvRanixJqxV",
        "outputId": "44ccfb72-7808-4e0a-a0a1-79f8aafab735"
      },
      "outputs": [],
      "source": [
        "# Add to comparison table/dict\n",
        "loss_dict[\"Deep NN (MSE)\"]  = deep_metrics[\"MSE\"]\n",
        "# loss_dict[\"Deep NN (RMSE)\"] = deep_metrics[\"RMSE\"]\n",
        "\n",
        "# Pretty print comparison\n",
        "print(\"\\n=== Test-set comparison ===\")\n",
        "for k, v in loss_dict.items():\n",
        "    print(f\"{k:35s}: {v:.6f}\")"
      ]
    },
    {
      "cell_type": "markdown",
      "metadata": {},
      "source": [
        "## Conclusion: Baseline vs Neural Networks (May differ with changes)\n",
        "\n",
        "Our experiments show a clear progression in approximation power:\n",
        "\n",
        "- **Polynomial baseline:** achieves a reasonable fit, but performance is limited and feature count grows rapidly with degree.  \n",
        "- **Simple neural network:** substantially improves over the polynomial model, demonstrating the strength of learned nonlinear representations.  \n",
        "- **Deep neural network:** provides the best accuracy among our models, benefiting from additional layers and parameters.\n",
        "\n",
        "**Takeaway.**  \n",
        "Neural networks clearly outperform polynomial regression for this task.  \n",
        "The polynomial model is useful as a sanity check, but it becomes unwieldy at higher degrees. Neural networks scale more gracefully, represent richer nonlinear functions, and achieve stronger performance without manual feature engineering.\n",
        "\n",
        "In the next sections, we will introduce **regularization techniques** (Dropout, BatchNorm) to help deeper networks train more stably and generalize more effectively."
      ]
    },
    {
      "cell_type": "markdown",
      "metadata": {
        "id": "rDNMQBh-vqS7"
      },
      "source": [
        "# Regularization and Normalization Techniques\n",
        "\n",
        "Modern deep nets train well when two things are controlled:\n",
        "1) the **scale** of signals and gradients as they flow through layers, and\n",
        "2) the model’s **capacity** to overfit.\n",
        "\n",
        "Normalization primarily addresses (1); regularization primarily addresses (2). In practice, both interact.\n",
        "\n",
        "## Vanishing/Exploding Gradients (intuition)\n",
        "\n",
        "Backpropagation multiplies Jacobians across layers. In a simplified diagonal case,\n",
        "$$\n",
        "W = W_1 W_2 \\cdots W_L,\n",
        "$$\n",
        "if typical singular values of the $W_\\ell$ are $<1$, products shrink (vanishing); if $>1$, products blow up (exploding).  \n",
        "This motivates keeping **activations and gradients in reasonable ranges** using good initialization and normalization.\n",
        "\n",
        "## Initialization (quick guide)\n",
        "\n",
        "Let $n_{\\text{in}}$ and $n_{\\text{out}}$ be fan-in/out of a linear layer.\n",
        "\n",
        "- **He (Kaiming) initialization** — good for ReLU-like activations:\n",
        "  - Normal: $\\;\\sigma^2 = \\dfrac{2}{n_{\\text{in}}}$\n",
        "  - Uniform: $\\;w \\sim \\mathcal U\\!\\Big(-\\sqrt{\\tfrac{6}{n_{\\text{in}}}}, \\sqrt{\\tfrac{6}{n_{\\text{in}}}}\\Big)$\n",
        "- **Xavier (Glorot) initialization** — good for tanh/sigmoid:\n",
        "  - Normal: $\\;\\sigma^2 = \\dfrac{2}{n_{\\text{in}}+n_{\\text{out}}}$\n",
        "  - Uniform: $\\;w \\sim \\mathcal U\\!\\Big(-\\sqrt{\\tfrac{6}{n_{\\text{in}}+n_{\\text{out}}}}, \\sqrt{\\tfrac{6}{n_{\\text{in}}+n_{\\text{out}}}}\\Big)$\n",
        "\n",
        "> PyTorch offers these in `torch.nn.init` and often uses sensible defaults.\n",
        "\n",
        "## Batch Normalization (BN)\n",
        "\n",
        "Given a mini-batch $X \\in \\mathbb R^{B \\times d}$ (B: batch size, d: features), BN computes\n",
        "$$\n",
        "\\hat X = \\frac{X - \\mu_{\\text{batch}}}{\\sqrt{\\sigma^2_{\\text{batch}} + \\varepsilon}},\\qquad\n",
        "Y = \\gamma \\odot \\hat X + \\beta,\n",
        "$$\n",
        "where $\\gamma,\\beta \\in \\mathbb R^d$ are learnable **scale/shift** parameters.\n",
        "\n",
        "- **Training:** uses batch statistics $(\\mu_{\\text{batch}}, \\sigma^2_{\\text{batch}})$ and updates running estimates.\n",
        "- **Inference:** uses the **running** mean/variance (fixed), not the current batch.\n",
        "- **Placement:** the common recipe is `Linear → BN → Activation`. (Other orders can work but are less standard.)\n",
        "- **Why it helps:** more stable signal scales, smoother loss landscape, larger viable learning rates.\n",
        "\n",
        "**Caveats.**\n",
        "- Too small batches make BN stats noisy (consider LayerNorm/GroupNorm in that case).\n",
        "- BN is not a regularizer per se (though it can have a mild regularizing effect); combine with Dropout/weight decay when needed."
      ]
    },
    {
      "cell_type": "code",
      "execution_count": null,
      "metadata": {},
      "outputs": [],
      "source": [
        "def build_mlp_bn(input_dim: int, output_dim: int, hidden: int = 32, depth: int = 12, activation=nn.ReLU) -> nn.Sequential:\n",
        "    \"\"\"\n",
        "    Deep MLP with BatchNorm after each Linear (except the last).\n",
        "    Pattern: Linear -> BN -> Activation, repeated 'depth' times, then final Linear to outputs.\n",
        "    \"\"\"\n",
        "    layers = []\n",
        "    # first block\n",
        "    layers += [nn.Linear(input_dim, hidden), nn.BatchNorm1d(hidden), activation()]\n",
        "    # middle blocks\n",
        "    for _ in range(depth - 1):\n",
        "        layers += [nn.Linear(hidden, hidden), nn.BatchNorm1d(hidden), activation()]\n",
        "    # head\n",
        "    layers += [nn.Linear(hidden, output_dim)]\n",
        "    return nn.Sequential(*layers)\n",
        "\n",
        "dim = 3\n",
        "input_size  = dim * (dim + 1) // 2  # 6 features\n",
        "output_size = dim\n",
        "bn_width, bn_depth = 32, 12\n",
        "\n",
        "big_model_BN = build_mlp_bn(input_dim=input_size, output_dim=output_size,\n",
        "                            hidden=bn_width, depth=bn_depth, activation=nn.ReLU)\n",
        "\n",
        "criterion = nn.MSELoss()\n",
        "optimizer = torch.optim.Adam(big_model_BN.parameters(), lr=1e-3)\n",
        "\n",
        "bn_train_losses, bn_test_losses = train_model(\n",
        "    big_model_BN, train_loader, test_loader, criterion, optimizer,\n",
        "    epochs=500, log_every=20\n",
        ")\n",
        "\n",
        "bn_metrics = evaluate_on_loader(big_model_BN, test_loader, sort_outputs=False)\n",
        "print(f\"BN Deep NN — Test MSE : {bn_metrics['MSE']:.6f}\")\n",
        "print(f\"BN Deep NN — Test MAE : {bn_metrics['MAE']:.6f}\")\n",
        "print(f\"BN Deep NN — Test RMSE: {bn_metrics['RMSE']:.6f}\")\n",
        "print(\"BN Deep NN — Per-eigenvalue RMSE (λ1, λ2, λ3):\",\n",
        "      \", \".join(f\"{v:.6f}\" for v in bn_metrics[\"RMSE_per\"]))"
      ]
    },
    {
      "cell_type": "code",
      "execution_count": null,
      "metadata": {},
      "outputs": [],
      "source": [
        "# Plot learning curves for the BN model\n",
        "plt.figure(figsize=(7,4))\n",
        "plt.plot(bn_train_losses, label=\"Train MSE (BN deep NN)\")\n",
        "plt.plot(bn_test_losses,  label=\"Test MSE (BN deep NN)\")\n",
        "plt.xlabel(\"Epoch\")\n",
        "plt.ylabel(\"MSE\")\n",
        "plt.title(f\"Deep NN + BatchNorm (depth={bn_depth}, width={bn_width})\")\n",
        "plt.grid(True)\n",
        "plt.legend()\n",
        "plt.show()"
      ]
    },
    {
      "cell_type": "markdown",
      "metadata": {
        "id": "yIuVeR4DUPPt"
      },
      "source": [
        "## 2.1 Gradient vanishing and explosion"
      ]
    },
    {
      "cell_type": "markdown",
      "metadata": {
        "id": "x0Vgm2F8vuF0"
      },
      "source": [
        "Consider the multiplication of diagonal matrices: $$W = W_1 W_2 \\dots W_n.$$ If the eigenvalues of each $W_i$ are less than 1, then the product $W$ will quickly converge to a small matrix. Conversely, if the eigenvalues of each $W_i$  are greater than 1, the product $W$ will grow exponentially.\n",
        "\n",
        "With Neural Networks it lead to the idea, that on each layers *parameters* and *gradients* should ideally <ins>be kept within a reasonable range or normalized</ins>."
      ]
    },
    {
      "cell_type": "markdown",
      "metadata": {
        "id": "KnCl1UvVeSLF"
      },
      "source": [
        "## 2.2 Initialization of Layers"
      ]
    },
    {
      "cell_type": "markdown",
      "metadata": {
        "id": "zccYcX2SxQ5R"
      },
      "source": [
        "Here are a few tips for initializing layer weights:\n",
        "\n",
        "1. **Default Initialization**: Often, you don't need to explicitly initialize weights; PyTorch may provide reasonable defaults.\n",
        "2. **He Initialization**: A common approach is to initialize weights within the range $[-y, y]$, where $y = \\frac{1}{\\sqrt{n}}$ and 'n' is the number of inputs to a neuron.\n",
        "3. **Xavier Initialization**: Xavier initialization is theoretically well-founded in certain situations ([Understanding the difficulty of training deep feedforward neural networks - Glorot, X. & Bengio, Y. (2010)](https://proceedings.mlr.press/v9/glorot10a/glorot10a.pdf)).\n",
        "\n",
        "PyTorch Docs:\n",
        "https://pytorch.org/docs/stable/nn.init.html#torch-nn-init\n"
      ]
    },
    {
      "cell_type": "markdown",
      "metadata": {
        "id": "7OxAqCaGPvJr"
      },
      "source": [
        "## 2.2 Batch Normalization"
      ]
    },
    {
      "cell_type": "markdown",
      "metadata": {
        "id": "5FcJYAYJP35d"
      },
      "source": [
        "Normalization techniques aim to make data samples more similar, improving model learning and generalization. There are several normalization layers: [batch normalization](https://pytorch.org/docs/stable/generated/torch.nn.BatchNorm1d.html) (introduced in 2015), [ instance normalization](https://pytorch.org/docs/stable/generated/torch.nn.InstanceNorm1d.html), [layer normalization ](https://pytorch.org/docs/stable/generated/torch.nn.LayerNorm.html)\n",
        "\n",
        "Let's consider batch normalization.\n",
        "\n",
        "1. First, the **batch normalization layer** is applied, normalizing the current batch to have zero mean and unit variance: $$X^{k+1} = \\frac{X^k-\\mu}{\\sqrt{\\sigma^2 + \\varepsilon}},$$ where $\\mu$ and $\\sigma^2$ are the average and variance of features for the processed batch. Note that $\\mu^2$ and $\\sigma^2$, being functions of $X^k$, also participate in the calculation of gradients. <ins>During inference they must be fixed</ins>.\n",
        "\n",
        "2. A **channel-wise scaling** layer follows, learning optimal scaling for all features $X^{k+2}$. This layer applies the transformation $$X^{k+2} = \\beta X^{k+1} + \\gamma,$$ where $\\beta$ and $\\gamma$ are learnable parameters, adjusting the mean and variance of the output $X^{k+2}$ during training."
      ]
    },
    {
      "cell_type": "markdown",
      "metadata": {
        "id": "0CigCiuxQ73P"
      },
      "source": [
        "### 2.2.1 Using BN"
      ]
    },
    {
      "cell_type": "markdown",
      "metadata": {
        "id": "_r_BeNZTSsgp"
      },
      "source": [
        "<font color='blue'>**Question**: Should Batch Normalization precede or follow after an Activation function?</font>\n",
        "\n",
        "The order\n",
        "\n",
        "```\n",
        "Linear → BatchNorm → Activation\n",
        "```\n",
        "\n",
        "makes more sence. As a side note, this ordering best practice is not a law. With other order your model will still train, and you may see better results."
      ]
    },
    {
      "cell_type": "code",
      "execution_count": null,
      "metadata": {
        "colab": {
          "base_uri": "https://localhost:8080/"
        },
        "id": "XxcFkT7MP53C",
        "outputId": "49e3eceb-fbc3-49ac-87f5-b6f6110bb814"
      },
      "outputs": [],
      "source": [
        "dim = 3\n",
        "input_size, hidden_size, output_size = dim * (dim + 1) // 2, 32, dim\n",
        "\n",
        "big_model_BN = nn.Sequential(\n",
        "    nn.Linear(input_size, hidden_size),\n",
        "    nn.BatchNorm1d(hidden_size),\n",
        "    nn.ReLU(),\n",
        "    nn.Linear(hidden_size, hidden_size),\n",
        "    nn.BatchNorm1d(hidden_size),\n",
        "    nn.ReLU(),\n",
        "    nn.Linear(hidden_size, hidden_size),\n",
        "    nn.BatchNorm1d(hidden_size),\n",
        "    nn.ReLU(),\n",
        "    nn.Linear(hidden_size, hidden_size),\n",
        "    nn.BatchNorm1d(hidden_size),\n",
        "    nn.ReLU(),\n",
        "    nn.Linear(hidden_size, hidden_size),\n",
        "    nn.BatchNorm1d(hidden_size),\n",
        "    nn.ReLU(),\n",
        "    nn.Linear(hidden_size, hidden_size),\n",
        "    nn.BatchNorm1d(hidden_size),\n",
        "    nn.ReLU(),\n",
        "    nn.Linear(hidden_size, hidden_size),\n",
        "    nn.BatchNorm1d(hidden_size),\n",
        "    nn.ReLU(),\n",
        "    nn.Linear(hidden_size, hidden_size),\n",
        "    nn.BatchNorm1d(hidden_size),\n",
        "    nn.ReLU(),\n",
        "    nn.Linear(hidden_size, hidden_size),\n",
        "    nn.BatchNorm1d(hidden_size),\n",
        "    nn.ReLU(),\n",
        "    nn.Linear(hidden_size, hidden_size),\n",
        "    nn.BatchNorm1d(hidden_size),\n",
        "    nn.ReLU(),\n",
        "    nn.Linear(hidden_size, hidden_size),\n",
        "    nn.BatchNorm1d(hidden_size),\n",
        "    nn.ReLU(),\n",
        "    nn.Linear(hidden_size, output_size)\n",
        ")\n",
        "\n",
        "criterion = nn.MSELoss()\n",
        "optimizer = torch.optim.Adam(big_model_BN.parameters(), lr=0.001)\n",
        "train_loss_BN, test_loss_BN = training_loop(big_model_BN, X_train_scaled, y_train,\n",
        "                                              X_test_scaled, y_test,\n",
        "                                              criterion, optimizer,\n",
        "                                              print_grad=True)"
      ]
    },
    {
      "cell_type": "markdown",
      "metadata": {
        "id": "0R23S0MaSc9q"
      },
      "source": [
        "While the loss increased slightly, the training curve became significantly smoother. Very deep NN can not be trained without normalization techniques."
      ]
    },
    {
      "cell_type": "code",
      "execution_count": null,
      "metadata": {
        "colab": {
          "base_uri": "https://localhost:8080/",
          "height": 564
        },
        "id": "ABkDTU6nRokx",
        "outputId": "ec2d39f5-49cc-4dba-c8af-359d9ff61bd0"
      },
      "outputs": [],
      "source": [
        "draw_loss(train_loss_BN, test_loss_BN, title='Big NN + BN')"
      ]
    },
    {
      "cell_type": "code",
      "execution_count": null,
      "metadata": {
        "colab": {
          "base_uri": "https://localhost:8080/"
        },
        "id": "vtw_LibirgZU",
        "outputId": "2034894d-6c30-40b8-e962-ed988d7d7b10"
      },
      "outputs": [],
      "source": [
        "loss_dict[\"Simple NN + BN loss\"] = test_loss_BN[-1]\n",
        "print(test_loss_BN[-1])"
      ]
    },
    {
      "cell_type": "markdown",
      "metadata": {
        "id": "eUAadm7hQBGz"
      },
      "source": [
        "Batch normalization's effectiveness is still a mystery.  Numerous hypotheses exist, but no definitive explanation has emerged.  This uncertainty is common in deep learning, best practices are usually found in experiments rather than in theory."
      ]
    },
    {
      "cell_type": "markdown",
      "metadata": {
        "id": "V0K9ex_V4S9O"
      },
      "source": [
        "## 2.3 Dropout"
      ]
    },
    {
      "cell_type": "markdown",
      "metadata": {
        "id": "dvfVoQdG4Utg"
      },
      "source": [
        "Another problem with big NN is that they can easily **overfit**. Once overfitting begins, the focus shifts to improving generalization through regularization. Standard strategies include:\n",
        "\n",
        "1.   reducing model capacity,\n",
        "2.   early stopping,\n",
        "3.   weight regularization,\n",
        "4.   and **dropout**.\n",
        "\n",
        "As a side note, a larger or higher-quality dataset remains the most effective way to enhance generalization.\n",
        "\n",
        "**Dropout**, applied to a layer, consists of randomly dropping out\n",
        "(setting to zero) a number of output features of the layer during training."
      ]
    },
    {
      "cell_type": "markdown",
      "metadata": {
        "id": "LZQe9uyL4k-2"
      },
      "source": [
        "![DropOut1.webp](data:image/webp;base64,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)"
      ]
    },
    {
      "cell_type": "markdown",
      "metadata": {
        "id": "68B5xnUsXWyA"
      },
      "source": [
        "Techinically another transformation is added, which is the multiplication of the output of the previous layer by a mask of zeros and ones. $$x_{k+1} = \\frac{1}{1-p}x^k \\odot mask_i, \\qquad mask_i \\sim \\operatorname{Bernoulli}(1-p),$$ where $p$ (probability of coordinate zeroing) is the hyperparameter of the layer. <ins>On inference dropout must be turn-off</ins> (also, note that we multiply on $\\frac{1}{1-p}$, to balance for the fact that more units are\n",
        "active than at training time)."
      ]
    },
    {
      "cell_type": "markdown",
      "metadata": {
        "id": "Lad7TX7AWTXc"
      },
      "source": [
        "\n",
        "<font color='blue'>**Question**: Why would this help reduce overfitting?</font>\n",
        "\n",
        "Drop-out was introduced in 2014 by Geoff Hinton and his student. He described the idea behind the Drop-out as follows:\n",
        "\n",
        "> “I went to my bank. The tellers kept changing\n",
        "and I asked one of them why. He said he didn’t know but they got moved around a lot I figured it must be because it would require cooperation between employees to successfully defraud the bank. This made me realize that randomly removing a different\n",
        "subset of neurons on each example would prevent conspiracies and thus reduce overfitting.”\n"
      ]
    },
    {
      "cell_type": "code",
      "execution_count": null,
      "metadata": {
        "colab": {
          "base_uri": "https://localhost:8080/"
        },
        "id": "K2iXaUUVXl1S",
        "outputId": "b17748f5-fa4d-4680-ddcc-4bd7797876f8"
      },
      "outputs": [],
      "source": [
        "dim = 3\n",
        "input_size, hidden_size, output_size = dim * (dim + 1) // 2, 32, dim\n",
        "\n",
        "big_model_DO = nn.Sequential(\n",
        "    nn.Linear(input_size, hidden_size),\n",
        "    nn.ReLU(),\n",
        "    nn.Dropout(p=0.2),\n",
        "    nn.Linear(hidden_size, hidden_size),\n",
        "    nn.ReLU(),\n",
        "    nn.Dropout(p=0.2),\n",
        "    nn.Linear(hidden_size, hidden_size),\n",
        "    nn.ReLU(),\n",
        "    nn.Dropout(p=0.2),\n",
        "    nn.Linear(hidden_size, hidden_size),\n",
        "    nn.ReLU(),\n",
        "    nn.Dropout(p=0.2),\n",
        "    nn.Linear(hidden_size, hidden_size),\n",
        "    nn.ReLU(),\n",
        "    nn.Dropout(p=0.2),\n",
        "    nn.Linear(hidden_size, hidden_size),\n",
        "    nn.ReLU(),\n",
        "    nn.Dropout(p=0.2),\n",
        "    nn.Linear(hidden_size, hidden_size),\n",
        "    nn.ReLU(),\n",
        "    nn.Dropout(p=0.2),\n",
        "    nn.Linear(hidden_size, hidden_size),\n",
        "    nn.ReLU(),\n",
        "    nn.Dropout(p=0.2),\n",
        "    nn.Linear(hidden_size, hidden_size),\n",
        "    nn.ReLU(),\n",
        "    nn.Dropout(p=0.2),\n",
        "    nn.Linear(hidden_size, hidden_size),\n",
        "    nn.ReLU(),\n",
        "    nn.Dropout(p=0.2),\n",
        "    nn.Linear(hidden_size, hidden_size),\n",
        "    nn.ReLU(),\n",
        "    nn.Dropout(p=0.2),\n",
        "    nn.Linear(hidden_size, output_size)\n",
        ")\n",
        "\n",
        "criterion = nn.MSELoss()\n",
        "optimizer = torch.optim.Adam(big_model_DO.parameters(), lr=0.001)\n",
        "train_loss_DO, test_loss_DO = training_loop(big_model_DO, X_train_scaled, y_train,\n",
        "                                              X_test_scaled, y_test,\n",
        "                                              criterion, optimizer, num_epochs=200, print_grad=False)"
      ]
    },
    {
      "cell_type": "code",
      "execution_count": null,
      "metadata": {
        "colab": {
          "base_uri": "https://localhost:8080/",
          "height": 564
        },
        "id": "ZNPL8l0RzWzH",
        "outputId": "22754c0d-e85a-436b-ce2c-9f633d6fec64"
      },
      "outputs": [],
      "source": [
        "draw_loss(train_loss_DO, test_loss_DO, title='Big NN + BN')"
      ]
    },
    {
      "cell_type": "code",
      "execution_count": null,
      "metadata": {
        "colab": {
          "base_uri": "https://localhost:8080/"
        },
        "id": "T0S5oTb1xRls",
        "outputId": "7a2c2e0a-fa30-4511-af95-57878e38c68b"
      },
      "outputs": [],
      "source": [
        "loss_dict[\"Simple NN + DO loss\"] = test_loss_DO[-1]\n",
        "test_loss_DO[-1]"
      ]
    },
    {
      "cell_type": "markdown",
      "metadata": {
        "id": "Z5M5RzVlYw0H"
      },
      "source": [
        "This time Dropout only made the situation worse. BN and Dropout may not go well together. As the creators of BatchNormalization noted (https://arxiv.org/pdf/1502.03167):\n",
        "\n",
        ">\"Whereas Dropout is typically used to reduce overfitting, a batch-normalized network we found that it can be either removed or reduced in strength\"."
      ]
    },
    {
      "cell_type": "code",
      "execution_count": null,
      "metadata": {
        "colab": {
          "base_uri": "https://localhost:8080/",
          "height": 772
        },
        "id": "19KrU8LUzjie",
        "outputId": "e86f3dbe-2887-4bdc-bb25-c3a92c8a088e"
      },
      "outputs": [],
      "source": [
        "dim = 3\n",
        "input_size, hidden_size, output_size = dim * (dim + 1) // 2, 32, dim\n",
        "\n",
        "big_model_BN_DO = nn.Sequential(\n",
        "    nn.Linear(input_size, hidden_size),\n",
        "    nn.BatchNorm1d(hidden_size),\n",
        "    nn.ReLU(),\n",
        "    nn.Dropout(p=0.2),\n",
        "    nn.Linear(hidden_size, hidden_size),\n",
        "    nn.BatchNorm1d(hidden_size),\n",
        "    nn.ReLU(),\n",
        "    nn.Dropout(p=0.2),\n",
        "    nn.Linear(hidden_size, hidden_size),\n",
        "    nn.BatchNorm1d(hidden_size),\n",
        "    nn.ReLU(),\n",
        "    nn.Dropout(p=0.2),\n",
        "    nn.Linear(hidden_size, hidden_size),\n",
        "    nn.BatchNorm1d(hidden_size),\n",
        "    nn.ReLU(),\n",
        "    nn.Dropout(p=0.2),\n",
        "    nn.Linear(hidden_size, hidden_size),\n",
        "    nn.BatchNorm1d(hidden_size),\n",
        "    nn.ReLU(),\n",
        "    nn.Dropout(p=0.2),\n",
        "    nn.Linear(hidden_size, hidden_size),\n",
        "    nn.BatchNorm1d(hidden_size),\n",
        "    nn.ReLU(),\n",
        "    nn.Dropout(p=0.2),\n",
        "    nn.Linear(hidden_size, hidden_size),\n",
        "    nn.BatchNorm1d(hidden_size),\n",
        "    nn.ReLU(),\n",
        "    nn.Dropout(p=0.2),\n",
        "    nn.Linear(hidden_size, hidden_size),\n",
        "    nn.BatchNorm1d(hidden_size),\n",
        "    nn.ReLU(),\n",
        "    nn.Dropout(p=0.2),\n",
        "    nn.Linear(hidden_size, hidden_size),\n",
        "    nn.BatchNorm1d(hidden_size),\n",
        "    nn.ReLU(),\n",
        "    nn.Dropout(p=0.2),\n",
        "    nn.Linear(hidden_size, hidden_size),\n",
        "    nn.BatchNorm1d(hidden_size),\n",
        "    nn.ReLU(),\n",
        "    nn.Dropout(p=0.2),\n",
        "    nn.Linear(hidden_size, hidden_size),\n",
        "    nn.BatchNorm1d(hidden_size),\n",
        "    nn.ReLU(),\n",
        "    nn.Dropout(p=0.2),\n",
        "    nn.Linear(hidden_size, output_size)\n",
        ")\n",
        "\n",
        "criterion = nn.MSELoss()\n",
        "optimizer = torch.optim.Adam(big_model_BN_DO.parameters(), lr=0.001)\n",
        "train_loss_BN_DO, test_loss_BN_DO = training_loop(big_model_BN_DO, X_train_scaled, y_train,\n",
        "                                              X_test_scaled, y_test,\n",
        "                                              criterion, optimizer, num_epochs=200, print_grad=False)\n",
        "\n",
        "draw_loss(train_loss_BN_DO, test_loss_BN_DO, title='Big NN + BN + DO')\n",
        "test_loss_BN_DO[-1]\n"
      ]
    },
    {
      "cell_type": "code",
      "execution_count": null,
      "metadata": {
        "colab": {
          "base_uri": "https://localhost:8080/",
          "height": 237
        },
        "id": "AFSpuMPl1y6J",
        "outputId": "392dcfb4-7263-4a25-dd1d-97ac7caddbc2"
      },
      "outputs": [],
      "source": [
        "loss_dict[\"Simple NN + BN + DO loss\"] = test_loss_BN_DO[-1]\n",
        "\n",
        "loss_df = pd.DataFrame.from_dict(loss_dict, orient='index', columns=['Loss'])\n",
        "\n",
        "loss_df\n",
        "\n",
        "# for key, value in loss_dict.items():\n",
        "    # print(f\"{key}: {value}\")"
      ]
    },
    {
      "cell_type": "markdown",
      "metadata": {
        "id": "Yy-c82Pk7qIk"
      },
      "source": [
        "\n",
        "### Key takeaways:\n",
        "\n",
        "1. Address potential **gradient vanishing/explosion** by using appropriate initialization, batch normalization, and dropout.\n",
        "2. Larger neural networks do not always guarantee better performance.\n",
        "\n",
        "\n",
        "<font color='red'>**Advice:**</font>\n",
        "\n",
        "1. When available, <ins>leverage parameters from relevant research publications</ins> as a starting point.\n",
        "2. Start with a basic neural network architecture and gradually increase its complexity, adding one component at a time.\n"
      ]
    }
  ],
  "metadata": {
    "colab": {
      "collapsed_sections": [
        "HEI-x9gbMqhl",
        "QPtqg0MhfgVx",
        "IXwqhDCzfgV1",
        "4Iz5ZdYWfgV3",
        "4e1qOTKfkEBQ"
      ],
      "provenance": []
    },
    "kernelspec": {
      "display_name": "Python 3",
      "name": "python3"
    },
    "language_info": {
      "codemirror_mode": {
        "name": "ipython",
        "version": 3
      },
      "file_extension": ".py",
      "mimetype": "text/x-python",
      "name": "python",
      "nbconvert_exporter": "python",
      "pygments_lexer": "ipython3",
      "version": "3.9.6"
    }
  },
  "nbformat": 4,
  "nbformat_minor": 0
}
