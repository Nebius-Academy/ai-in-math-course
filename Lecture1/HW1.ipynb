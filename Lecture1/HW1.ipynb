{
 "cells": [
  {
   "cell_type": "markdown",
   "metadata": {
    "id": "7CWVYD4ao-Jv"
   },
   "source": [
    "# HW 1"
   ]
  },
  {
   "cell_type": "markdown",
   "metadata": {
    "id": "988kYHiOYJw8"
   },
   "source": [
    "# **Problem 1**\n",
    "\n",
    "Below is the code for generating symmetric matrices with random entries in four different ways:\n",
    "\n",
    "1. Entries are uniformly distributed in the interval [0, 1].  \n",
    "2. Entries are uniformly distributed in the interval [-1, 1].  \n",
    "3. A symmetric matrix is formed as the half-sum of a matrix (like in item 2) and its transpose.  \n",
    "4. Entries are drawn from a normal distribution with mean **μ = 0** and standard deviation **σ = 1**.\n",
    "\n",
    "Unfortunately, only **item 3** is implemented correctly. The following cell shows the result of running this code.\n",
    "---\n",
    "\n",
    "## **Problem 1a (1 point)**\n",
    "\n",
    "Correct the implementations so that each method produces a symmetric matrix according to the intended description.\n",
    "\n",
    "---\n",
    "\n",
    "## **Problem 1b (1 point)**\n",
    "\n",
    "Add a fifth method of generating a symmetric matrix with random entries. Choose any reasonable approach—ideally, the resulting entries should still lie roughly within the range\n",
    " $[-1, 1]$."
   ]
  },
  {
   "cell_type": "code",
   "execution_count": null,
   "metadata": {
    "id": "yNasl0m21KFy"
   },
   "outputs": [],
   "source": [
    "import numpy as np\n",
    "import pandas as pd\n",
    "import scipy.linalg as sla\n",
    "import matplotlib.pyplot as plt\n",
    "import time\n",
    "from tqdm import tqdm\n",
    "\n",
    "%matplotlib inline\n",
    "# Fix the seed and the random state\n",
    "seed=42\n",
    "random_state=42"
   ]
  },
  {
   "cell_type": "code",
   "execution_count": null,
   "metadata": {
    "id": "JZ_BPEUPSxt7"
   },
   "outputs": [],
   "source": [
    "def generate_symmetric_matrix(size, algo=\"uniform\"):\n",
    "  \"\"\"Generates a symmetric matrix with random entries according to algo\n",
    "\n",
    "  Args:\n",
    "    size: The size of the matrix (size x size).\n",
    "\n",
    "  Returns:\n",
    "    A NumPy array representing the symmetric matrix.\n",
    "  \"\"\"\n",
    "  if algo == \"uniform\":\n",
    "      #generate symmetric matrix with random entries uniform in [0,1]\n",
    "      matrix_upper = np.triu(np.random.uniform(0, 1, size=(size, size)))\n",
    "      matrix_strictly_lower = np.triu(np.random.uniform(0, 1, size=(size, size))).T\n",
    "      for i in range(matrix_upper.shape[0]):\n",
    "          matrix_strictly_lower[i][i] = 0\n",
    "      return matrix_upper + matrix_strictly_lower\n",
    "  if algo == \"uniform_symm\":\n",
    "      #generate symmetric matrix with random entries uniform in [-1,1]\n",
    "      matrix_upper = np.triu(np.random.uniform(-1, 1, size=(size, size)))\n",
    "      matrix_strictly_lower = matrix_upper.T\n",
    "      for i in range(matrix_upper.shape[0]):\n",
    "          matrix_strictly_lower[i][i] = 0\n",
    "      return matrix_upper + matrix_strictly_lower\n",
    "  elif algo == \"sum\":\n",
    "      matrix = np.random.uniform(-1, 1, size=(size, size))\n",
    "      return (matrix + matrix.T) / 2\n",
    "  if algo == \"normal\":\n",
    "      #generate symmetric matrix with random entries normal with parameters (mu=0,sigma=1)\n",
    "      matrix_upper = np.triu(np.random.normal(size=(size, size)))\n",
    "      for i in range(matrix_upper.shape[0]):\n",
    "        for j in range(i):\n",
    "          matrix_upper[j][i] = matrix_upper[i][j]\n",
    "      return matrix_upper"
   ]
  },
  {
   "cell_type": "code",
   "execution_count": null,
   "metadata": {
    "colab": {
     "base_uri": "https://localhost:8080/"
    },
    "executionInfo": {
     "elapsed": 18,
     "status": "ok",
     "timestamp": 1743961169625,
     "user": {
      "displayName": "Alexander Shlimovich",
      "userId": "05651819604534406258"
     },
     "user_tz": -180
    },
    "id": "zazS57f1XoWU",
    "outputId": "529db3cf-dc21-48cd-c201-9e141190271f"
   },
   "outputs": [],
   "source": [
    "# Example usage: Generate a 5x5 symmetric matrix\n",
    "for algo in [\"uniform\", \"uniform_symm\", \"sum\", \"normal\"]:\n",
    "    symmetric_matrix = generate_symmetric_matrix(5, algo=algo)\n",
    "    print(algo)\n",
    "    print(symmetric_matrix, \"\\n\")"
   ]
  },
  {
   "cell_type": "markdown",
   "metadata": {
    "id": "-pSXzV9eXyyT"
   },
   "source": [
    "Below is code that generates 1000 random matrices of size $10 \\times 10$ using each of the four methods described above. For each matrix, the code computes:\n",
    "\n",
    "- All eigenvalues,\n",
    "- The maximum absolute value of the eigenvalues\n",
    "\n",
    "And displays histograms of these quantities.\n",
    "\n",
    "---\n",
    "\n",
    "## **Problem 1c (1 point)**\n",
    "\n",
    "Extend the output by adding a **5th row** of histograms corresponding to the matrix generation method you implemented in **Problem 1b**.\n",
    "\n",
    "---\n",
    "\n",
    "## **Problem 1d (1 point)**\n",
    "\n",
    "Add a **3rd column** of histograms showing the **spread of eigenvalues**, defined as:\n",
    "$\n",
    "\\text{Spread} = \\lambda_{\\max} - \\lambda_{\\min}\n",
    "$\n",
    "where $\\lambda_{\\max}$ and $\\lambda_{\\min}$ are the largest and smallest eigenvalues of the matrix, respectively."
   ]
  },
  {
   "cell_type": "code",
   "execution_count": null,
   "metadata": {
    "colab": {
     "base_uri": "https://localhost:8080/",
     "height": 1000
    },
    "executionInfo": {
     "elapsed": 12688,
     "status": "ok",
     "timestamp": 1743958158297,
     "user": {
      "displayName": "Alexander Shlimovich",
      "userId": "05651819604534406258"
     },
     "user_tz": -180
    },
    "id": "meRxt--HXtTK",
    "outputId": "a0bc55b9-202e-4ab9-916f-c650077094f8"
   },
   "outputs": [],
   "source": [
    "# Assuming generate_symmetric_matrix function is defined as in the previous code\n",
    "\n",
    "algos = [\"uniform\", \"uniform_symm\", \"sum\", \"normal\"]\n",
    "fig, axes = plt.subplots(len(algos), 2, figsize=(12, 4 * len(algos)))\n",
    "\n",
    "size=10\n",
    "\n",
    "for i, algo in enumerate(algos):\n",
    "    eigs = []\n",
    "    max_eigs = []\n",
    "    for _ in tqdm(range(1000)):\n",
    "        symmetric_matrix = generate_symmetric_matrix(size, algo=algo)\n",
    "        eigenvalues, _ = np.linalg.eigh(symmetric_matrix)\n",
    "        eigs.extend(eigenvalues)\n",
    "        max_eigs.append(np.max(np.abs(eigenvalues)))\n",
    "\n",
    "    axes[i, 0].hist(eigs, bins=100)\n",
    "    axes[i, 0].set_title(f\"Histogram of Eigenvalues ({algo})\")\n",
    "    axes[i, 0].set_xlabel(\"Eigenvalue\")\n",
    "    axes[i, 0].set_ylabel(\"Frequency\")\n",
    "\n",
    "    axes[i, 1].hist(max_eigs, bins=100)\n",
    "    axes[i, 1].set_title(f\"Histogram of Max Absolute Eigenvalue ({algo})\")\n",
    "    axes[i, 1].set_xlabel(\"Max Absolute Eigenvalue\")\n",
    "    axes[i, 1].set_ylabel(\"Frequency\")\n",
    "\n",
    "    axes[i, 0].set_xlim([-9, 9])\n",
    "    axes[i, 1].set_xlim([-9, 9])\n",
    "\n",
    "plt.tight_layout()\n",
    "plt.show()"
   ]
  },
  {
   "cell_type": "markdown",
   "metadata": {
    "id": "rC_lBqsUYB1P"
   },
   "source": [
    "---\n",
    "\n",
    "## **Problem 1e (1 point)**\n",
    "\n",
    "Look at the top-left histogram. You may notice a distinct gap or irregularity in the distribution.\n",
    "\n",
    "**Question:** What causes this gap? Provide a brief explanation based on how the matrices were generated and how their eigenvalues behave.\n",
    "\n",
    "\n",
    "---\n",
    "\n",
    "## **Problem 1f (1 point)**\n",
    "\n",
    "The code below generates matrices whose entries are uniformly drawn from [0, 1] using both a correct and an incorrect implementation. It then plots the same types of histograms as before.\n",
    "\n",
    "**Instructions:**\n",
    "\n",
    "1. Copy your corrected implementation from **Problem 1a** into the indicated section of the code below.  \n",
    "2. Run the code to compare the results.  \n",
    "3. You will likely observe that the histograms produced by both versions look almost identical.\n",
    "\n",
    "**Question:** Why do the histograms appear so similar, even though one method is technically incorrect? Provide a brief explanation.\n",
    "\n",
    "\n"
   ]
  },
  {
   "cell_type": "code",
   "execution_count": null,
   "metadata": {
    "colab": {
     "base_uri": "https://localhost:8080/",
     "height": 106
    },
    "executionInfo": {
     "elapsed": 4,
     "status": "error",
     "timestamp": 1743958158304,
     "user": {
      "displayName": "Alexander Shlimovich",
      "userId": "05651819604534406258"
     },
     "user_tz": -180
    },
    "id": "JM4NULKPX2Qq",
    "outputId": "160536dc-5b9a-49fa-b41f-c80aceacce39"
   },
   "outputs": [],
   "source": [
    "def generate_uniform_symmetric_matrix(size, algo=\"incorrect\"):\n",
    "  \"\"\"Generates a symmetric matrix with uniform random entries correctly or incorrectly\n",
    "\n",
    "  Args:\n",
    "    size: The size of the matrix (size x size).\n",
    "\n",
    "  Returns:\n",
    "    A NumPy array representing the symmetric matrix.\n",
    "  \"\"\"\n",
    "  if algo == \"incorrect\":\n",
    "      #generate symmetric matrix with random entries uniform in [0,1]\n",
    "      matrix_upper = np.triu(np.random.uniform(0, 1, size=(size, size)))\n",
    "      matrix_strictly_lower = np.triu(np.random.uniform(0, 1, size=(size, size))).T\n",
    "      for i in range(matrix_upper.shape[0]):\n",
    "          matrix_strictly_lower[i][i] = 0\n",
    "      return matrix_upper + matrix_strictly_lower\n",
    "  elif algo == \"correct\":\n",
    "      # your code from 2a here\n",
    "\n",
    "algos = [\"incorrect\", \"correct\"]\n",
    "fig, axes = plt.subplots(len(algos), 2, figsize=(12, 4 * len(algos)))\n",
    "\n",
    "size=10\n",
    "\n",
    "for i, algo in enumerate(algos):\n",
    "    eigs = []\n",
    "    max_eigs = []\n",
    "    for _ in tqdm(range(1000)):\n",
    "        symmetric_matrix = generate_uniform_symmetric_matrix(size, algo=algo)\n",
    "        eigenvalues, _ = np.linalg.eigh(symmetric_matrix)\n",
    "        eigs.extend(eigenvalues)\n",
    "        max_eigs.append(np.max(np.abs(eigenvalues)))\n",
    "\n",
    "    axes[i, 0].hist(eigs, bins=100)\n",
    "    axes[i, 0].set_title(f\"Histogram of Eigenvalues ({algo})\")\n",
    "    axes[i, 0].set_xlabel(\"Eigenvalue\")\n",
    "    axes[i, 0].set_ylabel(\"Frequency\")\n",
    "\n",
    "    axes[i, 1].hist(max_eigs, bins=100)\n",
    "    axes[i, 1].set_title(f\"Histogram of Max Absolute Eigenvalue ({algo})\")\n",
    "    axes[i, 1].set_xlabel(\"Max Absolute Eigenvalue\")\n",
    "    axes[i, 1].set_ylabel(\"Frequency\")\n",
    "\n",
    "    axes[i, 0].set_xlim([-9, 9])\n",
    "    axes[i, 1].set_xlim([-9, 9])\n",
    "\n",
    "plt.tight_layout()\n",
    "plt.show()"
   ]
  },
  {
   "cell_type": "markdown",
   "metadata": {
    "id": "7CIXl13dYP3h"
   },
   "source": [
    "# Problem 2\n",
    "\n",
    "In class, we tried to train a model to solve quadratic equations but were not successful. Let’s correct that by using a small “cheat.”\n",
    "\n",
    "The idea is to leverage the approximation:\n",
    "\n",
    "$\\sqrt{x}\\approx 1+\\frac{x-1}{2}$ if $x\\approx 1$.\n",
    "\n",
    "## **Problem 2a (2 points)**\n",
    "Generate quadratic polynomials such that their discriminant is approximately 1. Fill in the missing parts of the code below, then run the subsequent cells."
   ]
  },
  {
   "cell_type": "code",
   "execution_count": null,
   "metadata": {
    "id": "fMZvM_XrYD9x"
   },
   "outputs": [],
   "source": [
    "def generate_quadratic_data(n_samples, limit_coef=1.0):\n",
    "    # Method 1: Sampling coefficients p, q\n",
    "    p_values_1 = []\n",
    "    q_values_1 = []\n",
    "    roots_1 = []\n",
    "    sigma = 0.1\n",
    "    while len(p_values_1) < n_samples:\n",
    "        # your code here\n",
    "\n",
    "    data1 = pd.DataFrame({'p': p_values_1, 'q': q_values_1, 'y': roots_1})\n",
    "    return data1\n",
    "\n",
    "n_samples = 10000\n",
    "limit_coef = 2.0\n",
    "data1 = generate_quadratic_data(n_samples, limit_coef)\n",
    "print(data1.shape)"
   ]
  },
  {
   "cell_type": "code",
   "execution_count": null,
   "metadata": {
    "id": "NZP24LNKZq0h"
   },
   "outputs": [],
   "source": [
    "# Plot the datasets\n",
    "plt.figure(figsize=(10, 5))\n",
    "\n",
    "plt.subplot(1, 2, 1)\n",
    "plt.scatter(data1['p'], data1['q'], s=5, label='Method 1')\n",
    "plt.xlabel('p')\n",
    "plt.ylabel('q')\n",
    "plt.title('Quadrics (Method 1, p and q)')\n",
    "plt.legend()\n",
    "plt.xlim(auto=True)\n",
    "plt.ylim(auto=True)\n",
    "#plt.xlim(-limit_coef - 0.1, limit_coef + 0.1)\n",
    "#plt.ylim(-limit_coef - 0.1, limit_coef + 0.1)\n",
    "\n",
    "\n",
    "plt.tight_layout()\n",
    "plt.show()"
   ]
  },
  {
   "cell_type": "markdown",
   "metadata": {
    "id": "-viYrUIcZv2j"
   },
   "source": [
    "## **Problem 2b (2 points)**\n",
    "Run the cell below and interpret the results:\n",
    "\n",
    "Does the degree-2 polynomial we obtained resemble what one would get from\n",
    "\n",
    "$\n",
    "y = \\frac{1}{2}(-p + \\sqrt{p^2 - 4q})\n",
    "$\n",
    "\n",
    "by approximating the square root linearly near 1?\n",
    "\n",
    "Provide a brief explanation of whether (and why) they match."
   ]
  },
  {
   "cell_type": "code",
   "execution_count": null,
   "metadata": {
    "id": "uCSDYIHdZteb"
   },
   "outputs": [],
   "source": [
    "from sklearn.preprocessing import PolynomialFeatures\n",
    "from sklearn.linear_model import LinearRegression\n",
    "\n",
    "def get_best_polynomial_model(df, max_degree=2):\n",
    "    max_num_terms = int((max_degree + 1) * (max_degree + 2) / 2)\n",
    "    # Create a list to store data for the DataFrame\n",
    "    data = []\n",
    "\n",
    "    for degree in range(0,max_degree+1):\n",
    "        poly_features = PolynomialFeatures(degree=degree, include_bias=True)\n",
    "        X_poly = poly_features.fit_transform(df[['p','q']])\n",
    "        model = LinearRegression()\n",
    "        model.fit(X_poly, data1['y'])\n",
    "        coefficients = model.coef_\n",
    "        intercept = model.intercept_\n",
    "        row = list(coefficients)\n",
    "        row[0] = intercept\n",
    "        while len(row) < max_num_terms:\n",
    "            row.append(0)\n",
    "        data.append(row)\n",
    "\n",
    "    # Create a list of polynomial terms\n",
    "    terms = []\n",
    "    for i in range(degree + 1):\n",
    "        for j in range(i + 1):\n",
    "            if i == 0:\n",
    "                terms.append(\"1\")\n",
    "            elif j == 0:\n",
    "                terms.append(f\"p^{i}\")\n",
    "            elif i == j:\n",
    "                terms.append(f\"q^{i}\")\n",
    "            else:\n",
    "                terms.append(f\"p^{i-j}q^{j}\")\n",
    "\n",
    "    # Create the Pandas DataFrame\n",
    "    df = pd.DataFrame(data, columns=terms)\n",
    "    display(df)\n",
    "\n",
    "get_best_polynomial_model(data1, max_degree=2)"
   ]
  },
  {
   "cell_type": "code",
   "execution_count": null,
   "metadata": {
    "id": "oUlrdAUNAWQB"
   },
   "outputs": [],
   "source": []
  }
 ],
 "metadata": {
  "colab": {
   "provenance": []
  },
  "kernelspec": {
   "display_name": "Python 3",
   "name": "python3"
  },
  "language_info": {
   "name": "python"
  }
 },
 "nbformat": 4,
 "nbformat_minor": 0
}
