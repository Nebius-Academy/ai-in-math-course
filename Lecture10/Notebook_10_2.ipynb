{
 "cells": [
  {
   "cell_type": "markdown",
   "metadata": {
    "id": "2NoWazVzrCmb"
   },
   "source": [
    "## Seminar 10. Introduction to Reinforcement Learning\n",
    "\n"
   ]
  },
  {
   "cell_type": "markdown",
   "metadata": {
    "id": "0sL58QqEBd6B"
   },
   "source": [
    "# Farama Gymnasium (Gym interface)\n",
    "\n",
    "Before applying Reinforcement Learning algorithms to complex real-world problems, it's often beneficial to test them on simpler environments. [Gymnasium](https://github.com/Farama-Foundation/Gymnasium) (the successor to OpenAI Gym) provides a valuable collection of these environments, including robot control, videogames and board games.\n",
    "\n",
    "Documentation: https://gymnasium.farama.org/\n",
    "\n",
    "Let's see how it works."
   ]
  },
  {
   "cell_type": "code",
   "execution_count": null,
   "metadata": {
    "colab": {
     "base_uri": "https://localhost:8080/"
    },
    "executionInfo": {
     "elapsed": 9438,
     "status": "ok",
     "timestamp": 1748324188609,
     "user": {
      "displayName": "Alexander Shlimovich",
      "userId": "05651819604534406258"
     },
     "user_tz": -180
    },
    "id": "ddc7__2wBrTM",
    "outputId": "cd23cdbb-5fde-42b6-adac-f895a333fada"
   },
   "outputs": [],
   "source": [
    "!pip install gymnasium"
   ]
  },
  {
   "cell_type": "code",
   "execution_count": null,
   "metadata": {
    "id": "TckR0SP_l40G"
   },
   "outputs": [],
   "source": [
    "import numpy as np\n",
    "import gymnasium as gym\n",
    "from dataclasses import dataclass\n",
    "import typing as tt\n",
    "import matplotlib.pyplot as plt\n",
    "\n",
    "import torch\n",
    "import torch.nn as nn\n",
    "import torch.optim as optim"
   ]
  },
  {
   "cell_type": "markdown",
   "metadata": {
    "id": "OEhUhL6Hfl8B"
   },
   "source": [
    "## Frozen Lake Game"
   ]
  },
  {
   "cell_type": "markdown",
   "metadata": {
    "id": "gvqUO9wGhbEW"
   },
   "source": [
    "The next environment that we will try to solve using the cross- entropy method is **FrozenLake**.\n",
    "\n",
    "*   Its world is from the so-called grid world category, when your agent lives in  a grid of size $ 4 \\times 4$ and can move in four directions: up, down, left, and right.\n",
    "*   The agent always starts at the top left, and its goal is to reach the bottom-right cell of the grid.\n",
    "*  There are **holes** in the fixed cells of the grid and if you get into those holes, the episode ends and your reward is zero.\n",
    "*  If the agent reaches the **destination cell**, then it obtains a reward of 1.0 and the episode ends.\n",
    "\n",
    "To make life more complicated, by default the world is slippery, so there is a 33% chance that it will slip to the right or to the left. For simplicity we turn this option off."
   ]
  },
  {
   "cell_type": "code",
   "execution_count": null,
   "metadata": {
    "colab": {
     "base_uri": "https://localhost:8080/"
    },
    "executionInfo": {
     "elapsed": 7,
     "status": "ok",
     "timestamp": 1748324222593,
     "user": {
      "displayName": "Alexander Shlimovich",
      "userId": "05651819604534406258"
     },
     "user_tz": -180
    },
    "id": "KKbu1PM9Bfzn",
    "outputId": "b093bb27-e72a-46cc-9287-1a66cc798c76"
   },
   "outputs": [],
   "source": [
    "env = gym.make('FrozenLake-v1', desc=None, map_name=\"4x4\", render_mode=\"rgb_array\", is_slippery=False)\n",
    "env.reset()"
   ]
  },
  {
   "cell_type": "code",
   "execution_count": null,
   "metadata": {
    "colab": {
     "base_uri": "https://localhost:8080/",
     "height": 470
    },
    "executionInfo": {
     "elapsed": 719,
     "status": "ok",
     "timestamp": 1748324223835,
     "user": {
      "displayName": "Alexander Shlimovich",
      "userId": "05651819604534406258"
     },
     "user_tz": -180
    },
    "id": "yRR2EiXPBy4q",
    "outputId": "7fb79674-ed41-4c0e-865d-1f125e532fa9"
   },
   "outputs": [],
   "source": [
    "img = env.render()\n",
    "plt.imshow(img)\n",
    "print(\"Observation space:\", env.observation_space)\n",
    "print(\"Action space:\", env.action_space)"
   ]
  },
  {
   "cell_type": "markdown",
   "metadata": {
    "id": "lMtxVn5mf4cY"
   },
   "source": [
    "Note: if you're running this on your local machine, you'll see a window pop up with the image above. Don't close it, just alt-tab away."
   ]
  },
  {
   "cell_type": "markdown",
   "metadata": {
    "id": "W4QnvJKJf5Sw"
   },
   "source": [
    "\n",
    "\n",
    "### Gymnasium interface"
   ]
  },
  {
   "cell_type": "markdown",
   "metadata": {
    "id": "-E0aUpKpB15r"
   },
   "source": [
    "\n",
    "\n",
    "The three main methods of an environment are\n",
    "* `reset()`: reset environment to the initial state, return first observation and dict with auxiliary info\n",
    "* `render()`: show current environment state (a more colorful version :) )\n",
    "* `step(a)`: commit action `a` and return `(new_observation, reward, terminated, truncated, info)`\n",
    " * `new_observation`: an observation right after committing the action `a`\n",
    " * `reward`: a number representing your reward for committing action `a`\n",
    " * `terminated`: True if the MDP has just finished, False if still in progress\n",
    " * `truncated`: True if the number of steps elapsed >= max episode steps\n",
    " * `info`: some auxiliary stuff about what just happened. For now, ignore it."
   ]
  },
  {
   "cell_type": "markdown",
   "metadata": {
    "id": "ggiKLy45B3qG"
   },
   "source": [
    "\n",
    "A detailed explanation of the difference between `terminated` and `truncated` and how it should be used:\n",
    "1. https://gymnasium.farama.org/tutorials/gymnasium_basics/handling_time_limits/\n",
    "2. https://gymnasium.farama.org/content/migration-guide/\n"
   ]
  },
  {
   "cell_type": "code",
   "execution_count": null,
   "metadata": {
    "colab": {
     "base_uri": "https://localhost:8080/"
    },
    "executionInfo": {
     "elapsed": 45,
     "status": "ok",
     "timestamp": 1748324633763,
     "user": {
      "displayName": "Alexander Shlimovich",
      "userId": "05651819604534406258"
     },
     "user_tz": -180
    },
    "id": "9qijisR-B5an",
    "outputId": "82038597-68c4-4d99-9874-a27872e190da"
   },
   "outputs": [],
   "source": [
    "# Set seed to reproduce initial state in stochastic environment\n",
    "obs0, info = env.reset(seed=0)\n",
    "print(\"initial observation code:\", obs0)\n",
    "\n",
    "obs0, info = env.reset(seed=1)\n",
    "print(\"initial observation code:\", obs0)"
   ]
  },
  {
   "cell_type": "markdown",
   "metadata": {
    "id": "WeIl2a8Gm0vw"
   },
   "source": [
    "Let's make one step."
   ]
  },
  {
   "cell_type": "code",
   "execution_count": null,
   "metadata": {
    "colab": {
     "base_uri": "https://localhost:8080/"
    },
    "executionInfo": {
     "elapsed": 7,
     "status": "ok",
     "timestamp": 1748324635825,
     "user": {
      "displayName": "Alexander Shlimovich",
      "userId": "05651819604534406258"
     },
     "user_tz": -180
    },
    "id": "1yrYSahIB8Ll",
    "outputId": "ed59e7de-184b-4903-8b55-19ab8d0a87ea"
   },
   "outputs": [],
   "source": [
    "print(\"taking action 2 (right)\")\n",
    "new_obs, reward, terminated, truncated, _ = env.step(2)\n",
    "print(\"new observation code:\", new_obs)\n",
    "print(\"reward:\", reward)\n",
    "print(\"is game over?:\", terminated)\n",
    "print(\"is game truncated due to time limit?:\", truncated)"
   ]
  },
  {
   "cell_type": "markdown",
   "metadata": {
    "id": "_t4MDaI0mggC"
   },
   "source": [
    "To process environment positions, we can use \"wrappers\" that apply one-hot encoding. This means each position is converted into a vector with a single \"1\" and the rest \"0\"s, for example, $$(0, \\dots, 0, 1, 0, \\dots, 0).$$"
   ]
  },
  {
   "cell_type": "code",
   "execution_count": null,
   "metadata": {
    "id": "2q2YxwmFi8SH"
   },
   "outputs": [],
   "source": [
    "class DiscreteOneHotWrapper(gym.ObservationWrapper):\n",
    "    def __init__(self, env: gym.Env):\n",
    "        super(DiscreteOneHotWrapper, self).__init__(env)\n",
    "        assert isinstance(env.observation_space, gym.spaces.Discrete)\n",
    "        shape = (env.observation_space.n, )\n",
    "        self.observation_space = gym.spaces.Box(0.0, 1.0, shape, dtype=np.float32)\n",
    "\n",
    "    def observation(self, observation):\n",
    "        res = np.copy(self.observation_space.low)\n",
    "        res[observation] = 1.0\n",
    "        return res"
   ]
  },
  {
   "cell_type": "markdown",
   "metadata": {
    "id": "qhB8d1E2gEwy"
   },
   "source": [
    "\n",
    "\n",
    "### Cross Entropy for Frozen-Lake"
   ]
  },
  {
   "cell_type": "markdown",
   "metadata": {
    "id": "siPwl4xMnSPr"
   },
   "source": [
    "Our model is a simple FFNN."
   ]
  },
  {
   "cell_type": "code",
   "execution_count": null,
   "metadata": {
    "id": "A5bu8FiZi9ee"
   },
   "outputs": [],
   "source": [
    "class Net(nn.Module):\n",
    "    def __init__(self, obs_size: int, hidden_size: int,\n",
    "                 n_actions: int):\n",
    "        super(Net, self).__init__()\n",
    "        self.net = nn.Sequential(\n",
    "            nn.Linear(obs_size, hidden_size),\n",
    "            nn.ReLU(),\n",
    "            nn.Linear(hidden_size, n_actions)\n",
    "        )\n",
    "\n",
    "    def forward(self, x: torch.Tensor) -> torch.Tensor:\n",
    "        return self.net(x)"
   ]
  },
  {
   "cell_type": "markdown",
   "metadata": {
    "id": "8nBjLed8pDJG"
   },
   "source": [
    "We make classes to save episode steps and episodes"
   ]
  },
  {
   "cell_type": "code",
   "execution_count": null,
   "metadata": {
    "id": "OYCqPzd9i-bu"
   },
   "outputs": [],
   "source": [
    "@dataclass\n",
    "class EpisodeStep:\n",
    "    observation: np.ndarray\n",
    "    action: int\n",
    "\n",
    "@dataclass\n",
    "class Episode:\n",
    "    reward: float\n",
    "    steps: tt.List[EpisodeStep]"
   ]
  },
  {
   "cell_type": "markdown",
   "metadata": {
    "id": "dNi5dpH3pIm0"
   },
   "source": [
    "A function that generates one batch. Each batch consists of\n",
    "\n",
    "1. The total `reward` (float).\n",
    "2. A list of `EpisodeStep`.\n",
    "\n",
    "Each `EpisodeStep` consists of  \n",
    "\n",
    "*  `observation` (an array), which describes the state,\n",
    "*  `action` (int) taken in the state.\n",
    "\n",
    "\n",
    "\n"
   ]
  },
  {
   "cell_type": "code",
   "execution_count": null,
   "metadata": {
    "id": "k6Q6tU1KjBK9"
   },
   "outputs": [],
   "source": [
    "def iterate_batches(env: gym.Env, model: Net, batch_size: int) -> \\\n",
    "        tt.Generator[tt.List[Episode], None, None]:\n",
    "    batch = []\n",
    "    episode_reward = 0.0\n",
    "    episode_steps = []\n",
    "    obs, _ = env.reset()\n",
    "    softmax = nn.Softmax(dim=1)\n",
    "    while True:\n",
    "        # choose an action\n",
    "        obs_v = torch.tensor(obs, dtype=torch.float32)\n",
    "        act_probs_v = softmax(model(obs_v.unsqueeze(0)))\n",
    "        act_probs = act_probs_v.data.numpy()[0]\n",
    "        action = np.random.choice(len(act_probs), p=act_probs)\n",
    "\n",
    "        # make step, find reward\n",
    "        next_obs, reward, is_done, is_trunc, _ = env.step(action)\n",
    "        episode_reward += float(reward)\n",
    "\n",
    "        # saving the step\n",
    "        step = EpisodeStep(observation=obs, action=action)\n",
    "        episode_steps.append(step)\n",
    "\n",
    "        # save episode if it ended\n",
    "        if is_done or is_trunc:\n",
    "            e = Episode(reward=episode_reward, steps=episode_steps)\n",
    "            batch.append(e)\n",
    "\n",
    "            # reset values\n",
    "            episode_reward = 0.0\n",
    "            episode_steps = []\n",
    "            next_obs, _ = env.reset()\n",
    "            if len(batch) == batch_size:\n",
    "                yield batch\n",
    "                batch = []\n",
    "        obs = next_obs"
   ]
  },
  {
   "cell_type": "markdown",
   "metadata": {
    "id": "6pmNkpDLpLD5"
   },
   "source": [
    "Select `percentile` of best episodes. The function returns:\n",
    "\n",
    "* `train_obs_v` = tensor of observations with shape $(S,D)$, where $X$ total number of actions (= total length of selected episodes) and $D=16$ is the size of vector for the episode.\n",
    "* `train_act_v` = tensor of taken action with shape $(S)$.\n",
    "* `reward_bound` = the reward boundary used for filtering.\n",
    "* `reward_mean` = the mean reward."
   ]
  },
  {
   "cell_type": "code",
   "execution_count": null,
   "metadata": {
    "id": "4NinOE-sjCo2"
   },
   "outputs": [],
   "source": [
    "def filter_batch(batch: tt.List[Episode], percentile: float) -> \\\n",
    "        tt.Tuple[torch.FloatTensor, torch.LongTensor, float, float]:\n",
    "    rewards = list(map(lambda s: s.reward, batch))\n",
    "    reward_bound = float(np.percentile(rewards, percentile))\n",
    "    reward_mean = float(np.mean(rewards))\n",
    "\n",
    "    train_obs: tt.List[np.ndarray] = []\n",
    "    train_act: tt.List[int] = []\n",
    "    for episode in batch:\n",
    "        if episode.reward < reward_bound:\n",
    "            continue\n",
    "\n",
    "        train_obs.extend(map(lambda step: step.observation,\n",
    "                             episode.steps))\n",
    "        train_act.extend(map(lambda step: step.action,\n",
    "                             episode.steps))\n",
    "\n",
    "    train_obs_v = torch.FloatTensor(np.vstack(train_obs))\n",
    "    train_act_v = torch.LongTensor(train_act)\n",
    "    return train_obs_v, train_act_v, reward_bound, reward_mean"
   ]
  },
  {
   "cell_type": "markdown",
   "metadata": {
    "id": "f825enUjnZO-"
   },
   "source": [
    "Parameters of the model"
   ]
  },
  {
   "cell_type": "code",
   "execution_count": null,
   "metadata": {
    "id": "gj82sRK7nbVN"
   },
   "outputs": [],
   "source": [
    "HIDDEN_SIZE = 128\n",
    "BATCH_SIZE = 16\n",
    "PERCENTILE = 70\n",
    "MAX_ITER = 2000\n",
    "LR = 0.01"
   ]
  },
  {
   "cell_type": "markdown",
   "metadata": {
    "id": "tNtkv02dpPzn"
   },
   "source": [
    "Application of the model"
   ]
  },
  {
   "cell_type": "code",
   "execution_count": null,
   "metadata": {
    "colab": {
     "base_uri": "https://localhost:8080/",
     "height": 547
    },
    "executionInfo": {
     "elapsed": 111073,
     "status": "error",
     "timestamp": 1748324751525,
     "user": {
      "displayName": "Alexander Shlimovich",
      "userId": "05651819604534406258"
     },
     "user_tz": -180
    },
    "id": "lHF5Qmha2PeL",
    "outputId": "a223184c-3dc8-4d72-f2d9-d7b1d5f56ee9"
   },
   "outputs": [],
   "source": [
    "env = DiscreteOneHotWrapper(gym.make(\"FrozenLake-v1\", desc=None, map_name=\"4x4\",\n",
    "                                     render_mode=\"rgb_array\", is_slippery=False))\n",
    "obs_size = env.observation_space.shape[0]\n",
    "n_actions = int(env.action_space.n)\n",
    "\n",
    "net = Net(obs_size, HIDDEN_SIZE, n_actions)\n",
    "objective = nn.CrossEntropyLoss()\n",
    "optimizer = optim.Adam(params=net.parameters(), lr=LR)\n",
    "\n",
    "for iter_no, batch in enumerate(\n",
    "        iterate_batches(env, net, BATCH_SIZE)):\n",
    "\n",
    "\n",
    "    # We perform filtering of the elite episodes using the\n",
    "    # function. The result is tensors of observations and taken actions,\n",
    "    # the reward boundary used for filtering, and the mean reward.\n",
    "\n",
    "    obs_v, acts_v, reward_b, reward_m = filter_batch(batch, PERCENTILE)\n",
    "    optimizer.zero_grad()\n",
    "\n",
    "    # calculate action scores\n",
    "    action_scores_v = net(obs_v)\n",
    "\n",
    "    # Calculate Cross-Entropy between the NN output and the actions that the agent took.\n",
    "    # The idea is to reinforce our NN to carry out the elite actions that have led to good rewards.\n",
    "    loss_v = objective(action_scores_v, acts_v)\n",
    "    loss_v.backward()\n",
    "    optimizer.step()\n",
    "    if iter_no % 200 == 0:\n",
    "        print(\"%d: loss=%.3f, reward_mean=%.1f, reward_bound=%.1f\" % (\n",
    "            iter_no, loss_v.item(), reward_m, reward_b))\n",
    "    if reward_m > 0.8:\n",
    "        print(\"Solved!\")\n",
    "        break\n",
    "    if iter_no > MAX_ITER:\n",
    "        print(\"NOT solved!\")\n",
    "        break"
   ]
  },
  {
   "cell_type": "code",
   "execution_count": null,
   "metadata": {
    "colab": {
     "base_uri": "https://localhost:8080/",
     "height": 356
    },
    "executionInfo": {
     "elapsed": 11717,
     "status": "error",
     "timestamp": 1748324766241,
     "user": {
      "displayName": "Alexander Shlimovich",
      "userId": "05651819604534406258"
     },
     "user_tz": -180
    },
    "id": "ATCP4wyQQJEf",
    "outputId": "b765512e-9f52-43c1-8194-86d0ace5a3e1"
   },
   "outputs": [],
   "source": [
    "import matplotlib.pyplot as plt\n",
    "from IPython.display import display, clear_output\n",
    "import time\n",
    "\n",
    "frames = []\n",
    "\n",
    "obs = env.reset()\n",
    "if isinstance(obs, tuple):\n",
    "    obs = obs[0]\n",
    "\n",
    "while True:\n",
    "    # Render before action\n",
    "    frame = env.render()\n",
    "    frames.append(frame)\n",
    "\n",
    "    obs_v = torch.FloatTensor([obs])\n",
    "    logits = net(obs_v)\n",
    "    action = torch.argmax(logits, dim=1).item()\n",
    "\n",
    "    obs, reward, done, *_ = env.step(action)\n",
    "    if isinstance(obs, tuple):\n",
    "        obs = obs[0]\n",
    "\n",
    "    if done:\n",
    "        # One final render *after* last step\n",
    "        frame = env.render()\n",
    "        frames.append(frame)\n",
    "        break\n",
    "\n",
    "# Play back all frames\n",
    "for frame in frames:\n",
    "    plt.imshow(frame)\n",
    "    plt.axis('off')\n",
    "    display(plt.gcf())\n",
    "    clear_output(wait=True)\n",
    "    time.sleep(0.3)\n",
    "\n",
    "print(f\"Episode reward: {reward}\")"
   ]
  },
  {
   "cell_type": "markdown",
   "metadata": {
    "id": "EwJwap7aCf2s"
   },
   "source": [
    "We can see that our training process *doesn't improve the score over time*.\n",
    "\n",
    "\n",
    "<font color='red'>Problems.</font>\n",
    "\n",
    "*   In the FrozenLake environment we get the reward of 1.0 only when we reach the goal, and this reward says nothing about how good each episode was.\n",
    "*   There are only two kinds of episodes possible, with zero reward (failed) and one reward (successful), and failed episodes will obviously dominate at the beginning of the training, when the agent acts randomly.\n",
    "\n",
    "This example shows us the <font color='red'>limitations of the cross-entropy method</font> :\n",
    "1. For training, our episodes have to be finite (in general, they could be infinite) and, preferably, short.\n",
    "2. The total reward for the episodes should have enough variability to separate good episodes from bad ones.\n",
    "3. It is beneficial to have an intermediate reward during the episode instead of having the reward at the end of the episode.\n",
    "\n",
    "\n"
   ]
  },
  {
   "cell_type": "markdown",
   "metadata": {
    "id": "PSWFk73gjyxs"
   },
   "source": [
    "## Fixing CE for Frozen Lake (optional)"
   ]
  },
  {
   "cell_type": "markdown",
   "metadata": {
    "id": "RifwLA1bkMz4"
   },
   "source": [
    "Troubleshooting RL problems can be extremely challenging, often requiring a lot of \"duck tape\" and ad hoc modifications."
   ]
  },
  {
   "cell_type": "markdown",
   "metadata": {
    "id": "EVQHRNpIj141"
   },
   "source": [
    "![DuckTape.png](data:image/png;base64,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)"
   ]
  },
  {
   "cell_type": "markdown",
   "metadata": {
    "id": "ZHb867GAkgwG"
   },
   "source": [
    "We'll briefly list potential fixes, omitting detailed explanations.\n",
    "\n",
    "1. Larger batches of played episodes.\n",
    "2. Discount factor applied to the reward.\n",
    "3. Keeping elite episodes for a longer time.\n",
    "4. Decreasing the learning rate.\n",
    "5. A more complex model.\n",
    "6. Much longer training time (!)."
   ]
  }
 ],
 "metadata": {
  "colab": {
   "provenance": [
    {
     "file_id": "1z-aPz3Bv6xoumnPEGjDySpUWwW1yQvm-",
     "timestamp": 1748325164580
    },
    {
     "file_id": "1l87brePMzzaWXt8VOkVD4xLHWu6qE6gI",
     "timestamp": 1743093537172
    }
   ]
  },
  "kernelspec": {
   "display_name": "Python 3",
   "name": "python3"
  },
  "language_info": {
   "codemirror_mode": {
    "name": "ipython",
    "version": 3
   },
   "file_extension": ".py",
   "mimetype": "text/x-python",
   "name": "python",
   "nbconvert_exporter": "python",
   "pygments_lexer": "ipython3",
   "version": "3.9.6"
  }
 },
 "nbformat": 4,
 "nbformat_minor": 0
}
